{
 "cells": [
  {
   "cell_type": "code",
   "execution_count": 1,
   "id": "3f920245-4688-4e87-a12c-cdd865f6eb38",
   "metadata": {},
   "outputs": [],
   "source": [
    "import numpy as np"
   ]
  },
  {
   "cell_type": "markdown",
   "id": "49e322e9-26a6-4fef-b35c-79266467e43a",
   "metadata": {},
   "source": [
    "Q.1"
   ]
  },
  {
   "cell_type": "code",
   "execution_count": 2,
   "id": "ad5fcfc5-eebf-426b-b8a6-6ec660071df8",
   "metadata": {},
   "outputs": [],
   "source": [
    "list_ = [ '1','2','3','4','5']\n",
    "array_list = np.array(object = list_)"
   ]
  },
  {
   "cell_type": "code",
   "execution_count": 16,
   "id": "fd380eb6-4eda-464b-929a-18323bdf3ebd",
   "metadata": {},
   "outputs": [],
   "source": [
    "#there is difference in both type of varriable list_ is list data type and array_list is numpy array data type"
   ]
  },
  {
   "cell_type": "markdown",
   "id": "9b93edfc-9f8c-4437-8547-1c7bbd950378",
   "metadata": {},
   "source": [
    "Q.2"
   ]
  },
  {
   "cell_type": "code",
   "execution_count": 3,
   "id": "ce106381-0221-41cb-bcf3-c093b4e05ab9",
   "metadata": {},
   "outputs": [
    {
     "data": {
      "text/plain": [
       "array(['1', '2', '3', '4', '5'], dtype='<U1')"
      ]
     },
     "execution_count": 3,
     "metadata": {},
     "output_type": "execute_result"
    }
   ],
   "source": [
    "array_list"
   ]
  },
  {
   "cell_type": "code",
   "execution_count": null,
   "id": "86cc3ccd-c13e-4438-99bd-dd0a83809648",
   "metadata": {},
   "outputs": [
    {
     "data": {
      "text/plain": [
       "list"
      ]
     },
     "execution_count": 6,
     "metadata": {},
     "output_type": "execute_result"
    }
   ],
   "source": [
    "type(list_)"
   ]
  },
  {
   "cell_type": "code",
   "execution_count": 15,
   "id": "455054b5-bc9e-4d6e-a69e-921b9c8ff9bc",
   "metadata": {},
   "outputs": [
    {
     "name": "stdout",
     "output_type": "stream",
     "text": [
      "<class 'numpy.ndarray'> <U1\n"
     ]
    }
   ],
   "source": [
    "print(type(array_list), array_list.dtype)"
   ]
  },
  {
   "cell_type": "code",
   "execution_count": null,
   "id": "91433592-4665-413e-9da6-8753601c824f",
   "metadata": {},
   "outputs": [],
   "source": []
  },
  {
   "cell_type": "markdown",
   "id": "92c011ac-b4e4-4999-a21c-1f488215ebab",
   "metadata": {},
   "source": [
    "Q.3"
   ]
  },
  {
   "cell_type": "code",
   "execution_count": 17,
   "id": "cc516472-f7eb-49ab-8411-73bb257502f5",
   "metadata": {},
   "outputs": [],
   "source": [
    "array_list1 = np.array(object = list_, dtype = int)"
   ]
  },
  {
   "cell_type": "code",
   "execution_count": 21,
   "id": "48da1d05-d3e8-4b9c-ab75-f5111bf2b6cb",
   "metadata": {},
   "outputs": [
    {
     "data": {
      "text/plain": [
       "numpy.ndarray"
      ]
     },
     "execution_count": 21,
     "metadata": {},
     "output_type": "execute_result"
    }
   ],
   "source": [
    "type(array_list1)"
   ]
  },
  {
   "cell_type": "code",
   "execution_count": 24,
   "id": "fbf2cfbd-0bc8-4c75-89a6-e7266b938fbb",
   "metadata": {},
   "outputs": [
    {
     "data": {
      "text/plain": [
       "dtype('int64')"
      ]
     },
     "execution_count": 24,
     "metadata": {},
     "output_type": "execute_result"
    }
   ],
   "source": [
    "array_list1.dtype"
   ]
  },
  {
   "cell_type": "code",
   "execution_count": 25,
   "id": "8d4d852e-a9c7-4f65-8b20-dd607a359d4d",
   "metadata": {},
   "outputs": [],
   "source": [
    "#there is difference in both type of varriable list_ is list data type and array_list is numpy array data type#there is difference in both type of varriable list_ is list data type and array_list1 is numpy array data type int64"
   ]
  },
  {
   "cell_type": "code",
   "execution_count": null,
   "id": "ac016f02-4ec1-4607-8993-042c9f97def6",
   "metadata": {},
   "outputs": [],
   "source": []
  },
  {
   "cell_type": "code",
   "execution_count": 26,
   "id": "130376b3-486a-47b0-87ee-e08e64fb2bab",
   "metadata": {},
   "outputs": [],
   "source": [
    "num_list = [ [ 1 , 2 , 3 ] , [ 4 , 5 , 6 ] ]\n",
    "num_array = np.array(object = num_list)"
   ]
  },
  {
   "cell_type": "code",
   "execution_count": 29,
   "id": "1cb127d2-792f-4d58-9aaa-227e80b97167",
   "metadata": {},
   "outputs": [
    {
     "data": {
      "text/plain": [
       "(2, 3)"
      ]
     },
     "execution_count": 29,
     "metadata": {},
     "output_type": "execute_result"
    }
   ],
   "source": [
    "num_array.shape"
   ]
  },
  {
   "cell_type": "code",
   "execution_count": 30,
   "id": "40a51ecc-a104-4559-bacc-835006de223c",
   "metadata": {},
   "outputs": [
    {
     "data": {
      "text/plain": [
       "6"
      ]
     },
     "execution_count": 30,
     "metadata": {},
     "output_type": "execute_result"
    }
   ],
   "source": [
    "num_array.size"
   ]
  },
  {
   "cell_type": "code",
   "execution_count": null,
   "id": "5da964a3-6814-4659-b764-d0b76efb48a2",
   "metadata": {},
   "outputs": [],
   "source": []
  },
  {
   "cell_type": "code",
   "execution_count": 33,
   "id": "592dce64-f7ce-4ffc-a517-f4c8b739734f",
   "metadata": {},
   "outputs": [],
   "source": [
    "zeros = np.zeros((3,3))"
   ]
  },
  {
   "cell_type": "code",
   "execution_count": 34,
   "id": "98bf19ea-0027-41c7-8417-75de889f9c87",
   "metadata": {},
   "outputs": [
    {
     "data": {
      "text/plain": [
       "array([[0., 0., 0.],\n",
       "       [0., 0., 0.],\n",
       "       [0., 0., 0.]])"
      ]
     },
     "execution_count": 34,
     "metadata": {},
     "output_type": "execute_result"
    }
   ],
   "source": [
    "zeros"
   ]
  },
  {
   "cell_type": "code",
   "execution_count": null,
   "id": "77c7bb5d-e8b1-48d9-9046-94c1e2543c6e",
   "metadata": {},
   "outputs": [],
   "source": []
  },
  {
   "cell_type": "code",
   "execution_count": null,
   "id": "90b3c9f3-aa6e-43b9-b8b9-2916d14f724b",
   "metadata": {},
   "outputs": [],
   "source": []
  },
  {
   "cell_type": "code",
   "execution_count": 43,
   "id": "1273f221-c509-4aa0-a988-d2474e63c796",
   "metadata": {},
   "outputs": [],
   "source": [
    "dia = np.diag((1,1,1,1,1))"
   ]
  },
  {
   "cell_type": "code",
   "execution_count": 44,
   "id": "c3a71254-2fd6-4577-864b-73f723680627",
   "metadata": {},
   "outputs": [
    {
     "data": {
      "text/plain": [
       "array([[1, 0, 0, 0, 0],\n",
       "       [0, 1, 0, 0, 0],\n",
       "       [0, 0, 1, 0, 0],\n",
       "       [0, 0, 0, 1, 0],\n",
       "       [0, 0, 0, 0, 1]])"
      ]
     },
     "execution_count": 44,
     "metadata": {},
     "output_type": "execute_result"
    }
   ],
   "source": [
    "dia"
   ]
  },
  {
   "cell_type": "code",
   "execution_count": null,
   "id": "24b0ddeb-926d-48b4-a37e-2f1d922313c7",
   "metadata": {},
   "outputs": [],
   "source": []
  }
 ],
 "metadata": {
  "kernelspec": {
   "display_name": "Python 3 (ipykernel)",
   "language": "python",
   "name": "python3"
  },
  "language_info": {
   "codemirror_mode": {
    "name": "ipython",
    "version": 3
   },
   "file_extension": ".py",
   "mimetype": "text/x-python",
   "name": "python",
   "nbconvert_exporter": "python",
   "pygments_lexer": "ipython3",
   "version": "3.10.8"
  }
 },
 "nbformat": 4,
 "nbformat_minor": 5
}
