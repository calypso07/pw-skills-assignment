{
 "cells": [
  {
   "cell_type": "markdown",
   "id": "286178ba-daa4-46f8-8a66-b9d3c527a925",
   "metadata": {},
   "source": [
    "##Q.1\n",
    "\n",
    "Web scraping (also known as web harvesting or web data extraction) is a technique used to extract large amounts of data from websites. It is used to collect data from websites and convert it into a structured format such as a CSV, JSON, or Excel file. Web scraping is used to gather data for various purposes such as market research, competitive analysis, and lead generation.\n",
    "\n",
    "Three areas where web scraping is used to get data include:\n",
    "\n",
    "1. Market research: Web scraping can be used to gather data from websites such as product prices, reviews, ratings, and availability. This data can then be used to help inform marketing strategies and product development.\n",
    "\n",
    "2. Competitive analysis: Web scraping can be used to gather data from competitor websites such as prices, features, and customer reviews. This data can then be used to help inform business decisions.\n",
    "\n",
    "3. Lead generation: Web scraping can be used to gather data from websites such as contact information, company size, and industry. This data can then be used to help generate leads and target potential customers."
   ]
  },
  {
   "cell_type": "code",
   "execution_count": null,
   "id": "7295b339-fe48-44d3-96f3-935055fd7c9a",
   "metadata": {},
   "outputs": [],
   "source": []
  },
  {
   "cell_type": "markdown",
   "id": "5fbaf5a7-5342-4b74-99a7-e40221680954",
   "metadata": {},
   "source": [
    "##Q.2\n",
    "1. Manual copy-paste - This is the simplest and most common method of web scraping, where manual copy-paste is used to extract data from webpages.\n",
    "\n",
    "2. HTML Parsing - This is a method of web scraping where HTML code is parsed to extract data from webpages.\n",
    "\n",
    "3. Regular Expression - This is a method of web scraping that uses a sequence of characters to define a search pattern for a string of text.\n",
    "\n",
    "4. Web APIs - This is a method of web scraping that uses an application programming interface (API) to retrieve data from a website.\n",
    "\n",
    "5. Web Scraping Frameworks - This is a method of web scraping that uses a framework such as Beautifullsoup, Scrapy, lxml, and Selenium to automate the process of extracting data from webpages.\n",
    "\n",
    "6. Headless Browsers - This is a method of web scraping that uses a browser without a GUI, such as PhantomJS or Splash, to simulate a human user's interaction with a website."
   ]
  },
  {
   "cell_type": "code",
   "execution_count": null,
   "id": "a06bb4f1-239c-4102-9dba-38cd7a18b4f5",
   "metadata": {},
   "outputs": [],
   "source": []
  },
  {
   "cell_type": "markdown",
   "id": "79c8ba2a-f2ce-4354-8dd1-086578cfd6ad",
   "metadata": {},
   "source": [
    "##Q.3\n",
    "\n",
    "Beautiful Soup is a Python library that is used for web scraping. It parses HTML and XML documents and extracts data from them. It is used to collect data from webpages, including text, links, tables, and other elements that can be used for further analysis. It is a useful tool for web developers, data scientists, and digital marketers who need to collect data from the web."
   ]
  },
  {
   "cell_type": "code",
   "execution_count": null,
   "id": "be1fb5fd-e5a4-4d7e-9c17-d9de4f869c3a",
   "metadata": {},
   "outputs": [],
   "source": []
  },
  {
   "cell_type": "markdown",
   "id": "c86a7246-8b63-42a0-81b3-6111f10ad571",
   "metadata": {},
   "source": [
    "##Q.4\n",
    "\n",
    "Flask is a web framework used for building web applications with Python. It is lightweight and provides tools, libraries, and technologies that allow developers to build a web application quickly and easily. Flask is used in this Web Scraping project because it provides a robust set of tools for building web applications and for creating a web-based interface for interacting with the data collected by the web scraping process. It also provides a reliable platform for hosting the web application and for deploying it to a web server."
   ]
  },
  {
   "cell_type": "code",
   "execution_count": null,
   "id": "a2239116-5741-4d65-8b6f-8ad85852336a",
   "metadata": {},
   "outputs": [],
   "source": []
  },
  {
   "cell_type": "markdown",
   "id": "ea06a7f3-58cd-4a3c-94b5-fa37975cb57f",
   "metadata": {},
   "source": [
    "##Q.5\n",
    "\n",
    "Codepipeline is a continuous delivery service offered by Amazon Web Services (AWS) that allows developers to quickly and securely deploy applications and services. It automates the build, test, and release stages of software development, allowing developers to focus on coding and not worry about the underlying infrastructure. \n",
    "\n",
    "Beanstalk is an AWS service that makes it easy for developers to quickly deploy and manage applications in the cloud. It provides a platform for developers to upload their code, configure the environment, and deploy the application. Beanstalk also provides application health monitoring, automated scaling, and a built-in deployment pipeline. With Beanstalk, developers can quickly and easily launch applications in the cloud without having to manage the underlying infrastructure.\n"
   ]
  },
  {
   "cell_type": "code",
   "execution_count": null,
   "id": "94fd89cc-0ee1-4b04-8ab1-2bf2cdfe0e17",
   "metadata": {},
   "outputs": [],
   "source": []
  },
  {
   "cell_type": "code",
   "execution_count": null,
   "id": "6054c797-c586-4f86-87ec-ce337685b541",
   "metadata": {},
   "outputs": [],
   "source": []
  },
  {
   "cell_type": "code",
   "execution_count": null,
   "id": "42c769d5-1641-4873-8f4d-58a41b14ec70",
   "metadata": {},
   "outputs": [],
   "source": []
  }
 ],
 "metadata": {
  "kernelspec": {
   "display_name": "Python 3 (ipykernel)",
   "language": "python",
   "name": "python3"
  },
  "language_info": {
   "codemirror_mode": {
    "name": "ipython",
    "version": 3
   },
   "file_extension": ".py",
   "mimetype": "text/x-python",
   "name": "python",
   "nbconvert_exporter": "python",
   "pygments_lexer": "ipython3",
   "version": "3.10.8"
  }
 },
 "nbformat": 4,
 "nbformat_minor": 5
}
