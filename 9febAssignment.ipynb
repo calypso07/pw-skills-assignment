{
 "cells": [
  {
   "cell_type": "markdown",
   "id": "bfb8820f-e237-4432-bc91-0a5a87957ede",
   "metadata": {},
   "source": [
    "## Q.1"
   ]
  },
  {
   "cell_type": "code",
   "execution_count": 1,
   "id": "be14dc58-248d-4d4a-a3a6-b5191c81279a",
   "metadata": {},
   "outputs": [],
   "source": [
    "class vehicle:\n",
    "    def __init__(self, name_of_vehicle, max_speed, average_of_vehicle):\n",
    "        self.name_of_vehicle = name_of_vehicle\n",
    "        self.max_speed = max_speed\n",
    "        self.average_of_vehicle = average_of_vehicle\n",
    "        "
   ]
  },
  {
   "cell_type": "code",
   "execution_count": null,
   "id": "2a0c57d5-bd16-4d7f-921c-3adbf3b5d3b8",
   "metadata": {},
   "outputs": [],
   "source": []
  },
  {
   "cell_type": "markdown",
   "id": "9f12c11a-8a1a-41f7-989f-06eabca9d5c0",
   "metadata": {},
   "source": [
    "## Q.2"
   ]
  },
  {
   "cell_type": "code",
   "execution_count": 17,
   "id": "914ba18d-d88f-45b8-be38-68f94cd09742",
   "metadata": {},
   "outputs": [],
   "source": [
    "class car(vehicle):\n",
    "    def seating_capacity(self, capacity):\n",
    "        self.capacity = capacity\n",
    "        return self.name_of_vehicle, capacity"
   ]
  },
  {
   "cell_type": "code",
   "execution_count": 18,
   "id": "e16f735c-1b49-42c4-a5c9-d5362debe3bc",
   "metadata": {},
   "outputs": [],
   "source": [
    "car1 = car('range rover', 250, 11)"
   ]
  },
  {
   "cell_type": "code",
   "execution_count": 20,
   "id": "cc736860-a2a6-4b36-b668-25a168d35932",
   "metadata": {},
   "outputs": [
    {
     "data": {
      "text/plain": [
       "('range rover', 5)"
      ]
     },
     "execution_count": 20,
     "metadata": {},
     "output_type": "execute_result"
    }
   ],
   "source": [
    "car1.seating_capacity(5)"
   ]
  },
  {
   "cell_type": "code",
   "execution_count": null,
   "id": "4133b9e9-43ad-4bba-a559-51b6ebdfd5e6",
   "metadata": {},
   "outputs": [],
   "source": []
  },
  {
   "cell_type": "markdown",
   "id": "3c476b34-055a-433e-a932-2d32bd479a23",
   "metadata": {},
   "source": [
    "## Q.3"
   ]
  },
  {
   "cell_type": "markdown",
   "id": "25a0d7ab-b20a-44b3-b4fb-5ad1fa96cae0",
   "metadata": {},
   "source": [
    "Multiple inheritance is a feature of some object-oriented computer programming languages in which an object or class can inherit characteristics and features from more than one  parent class ."
   ]
  },
  {
   "cell_type": "code",
   "execution_count": 22,
   "id": "7593c8da-ab10-4351-b8b9-b7b9f7b00998",
   "metadata": {},
   "outputs": [],
   "source": [
    "class dad:\n",
    "    def business(self):\n",
    "        print('Owns a family business')\n",
    "\n",
    "class mom:\n",
    "    def govt_employee(self):\n",
    "        print('Working in govt job')\n",
    "\n",
    "class son(dad, mom):\n",
    "    def dsm_student(self):\n",
    "        print('learning data science masters')"
   ]
  },
  {
   "cell_type": "code",
   "execution_count": 23,
   "id": "e87eb0d6-c279-493b-b7d0-3fd0f0cce7a4",
   "metadata": {},
   "outputs": [],
   "source": [
    "kid = son()"
   ]
  },
  {
   "cell_type": "code",
   "execution_count": 30,
   "id": "b8d2faff-8dcd-4c13-b36e-ab8b3bf2db36",
   "metadata": {},
   "outputs": [
    {
     "name": "stdout",
     "output_type": "stream",
     "text": [
      "Owns a family business\n",
      "Working in govt job\n",
      "learning data science masters\n"
     ]
    }
   ],
   "source": [
    "kid.business()\n",
    "kid.govt_employee()\n",
    "kid.dsm_student()"
   ]
  },
  {
   "cell_type": "code",
   "execution_count": null,
   "id": "3afda89c-49ba-45a9-b724-fdd4d9963dfa",
   "metadata": {},
   "outputs": [],
   "source": []
  },
  {
   "cell_type": "markdown",
   "id": "5bd8b82c-5329-4338-9f68-d065177b830b",
   "metadata": {},
   "source": [
    "## Q.4"
   ]
  },
  {
   "cell_type": "markdown",
   "id": "8f7ad435-4b01-4fee-b10a-231f398df6d8",
   "metadata": {},
   "source": [
    "For the purpose of data encapsulation, most object oriented languages use getters and setters method. This is because we want to hide the attributes of a object class from other classes so that no accidental modification of the data happens by methods in other classes.\n",
    "\n",
    "As the name suggests, getters are the methods which help access the private attributes or get the value of the private attributes and setters are the methods which help change or set the value of private attributes."
   ]
  },
  {
   "cell_type": "code",
   "execution_count": 51,
   "id": "ec2b0562-9f41-40d4-8d91-1291e41e398d",
   "metadata": {},
   "outputs": [],
   "source": [
    "class human:\n",
    "    def __init__(self, name, age):\n",
    "        self.__nameofperson = name\n",
    "        self.__ageofperson = age\n",
    "    ##getter method\n",
    "    def get_age(self):\n",
    "        return self.__ageofperson\n",
    "    def get_name(self):\n",
    "        return self.__nameofperson\n",
    "    ##setter method\n",
    "    def set_name(self, a):\n",
    "        self.__nameofperson = a\n",
    "    def set_age(self, b):\n",
    "        self.__ageofperson = b"
   ]
  },
  {
   "cell_type": "code",
   "execution_count": 53,
   "id": "278b22e6-bcb5-4e32-b0cf-929fd1c42a23",
   "metadata": {},
   "outputs": [],
   "source": [
    "person.set_age(22)"
   ]
  },
  {
   "cell_type": "code",
   "execution_count": 54,
   "id": "49d808e5-e682-45b4-a530-11bfb3d3d4be",
   "metadata": {},
   "outputs": [],
   "source": [
    "person.set_name('Shubham')"
   ]
  },
  {
   "cell_type": "code",
   "execution_count": 55,
   "id": "0062fe28-abee-433f-969e-6f70ff458163",
   "metadata": {},
   "outputs": [
    {
     "data": {
      "text/plain": [
       "'Shubham'"
      ]
     },
     "execution_count": 55,
     "metadata": {},
     "output_type": "execute_result"
    }
   ],
   "source": [
    "person.get_name()"
   ]
  },
  {
   "cell_type": "code",
   "execution_count": 56,
   "id": "b3990387-7d63-4aed-b4f2-a1c0ea5b85e4",
   "metadata": {},
   "outputs": [
    {
     "data": {
      "text/plain": [
       "22"
      ]
     },
     "execution_count": 56,
     "metadata": {},
     "output_type": "execute_result"
    }
   ],
   "source": [
    "person.get_age()"
   ]
  },
  {
   "cell_type": "code",
   "execution_count": null,
   "id": "cd1c0a2b-aa43-47ed-b19f-28ae7f335a7e",
   "metadata": {},
   "outputs": [],
   "source": []
  },
  {
   "cell_type": "markdown",
   "id": "f7e34a74-1d43-4259-95a5-0748a453948b",
   "metadata": {},
   "source": [
    "## Q.5"
   ]
  },
  {
   "cell_type": "markdown",
   "id": "20ce70f7-8223-422e-82ea-6dd6ef91ef72",
   "metadata": {},
   "source": [
    "Method overriding is an ability of any object-oriented programming language that allows a subclass or child class to provide a specific implementation of a method that is already provided by one of its super-classes or parent classes. When a method in a subclass has the same name, same parameters or signature and same return type(or sub-type) as a method in its super-class, then the method in the subclass is said to override the method in the super-class.\n",
    "\n"
   ]
  },
  {
   "cell_type": "code",
   "execution_count": 78,
   "id": "55dc78bd-b397-427f-aeaa-30e0523812dc",
   "metadata": {},
   "outputs": [],
   "source": [
    "class father:\n",
    "    \n",
    "    #method overidden\n",
    "    def method1(self):\n",
    "        self.name = 'FATHER'\n",
    "        return self.name\n",
    "    \n",
    "     #method inherited by son   \n",
    "    def method2(self):\n",
    "        self.color = 'Purple'\n",
    "        return self.color\n",
    "\n",
    "class son(father):\n",
    "    #method override\n",
    "    def method1(self):\n",
    "        self.name = 'SON'\n",
    "        return self.name\n",
    "        \n",
    "        "
   ]
  },
  {
   "cell_type": "code",
   "execution_count": 79,
   "id": "60e22a79-273b-4245-9d48-3ad8154e9f28",
   "metadata": {},
   "outputs": [],
   "source": [
    "s = son()"
   ]
  },
  {
   "cell_type": "code",
   "execution_count": 82,
   "id": "f52d0d78-e7de-4f7f-99ba-6cf95a45a6b5",
   "metadata": {},
   "outputs": [
    {
     "data": {
      "text/plain": [
       "'SON'"
      ]
     },
     "execution_count": 82,
     "metadata": {},
     "output_type": "execute_result"
    }
   ],
   "source": [
    "s.method1()"
   ]
  },
  {
   "cell_type": "code",
   "execution_count": 83,
   "id": "4f0667ca-f77f-4971-80da-034bf644c558",
   "metadata": {},
   "outputs": [
    {
     "data": {
      "text/plain": [
       "'Purple'"
      ]
     },
     "execution_count": 83,
     "metadata": {},
     "output_type": "execute_result"
    }
   ],
   "source": [
    "s.method2()"
   ]
  },
  {
   "cell_type": "code",
   "execution_count": null,
   "id": "1f5808bb-86e5-4f0a-b66b-867834bae120",
   "metadata": {},
   "outputs": [],
   "source": []
  },
  {
   "cell_type": "code",
   "execution_count": null,
   "id": "ed429d3b-31a8-4b60-a648-01f97d34bb69",
   "metadata": {},
   "outputs": [],
   "source": []
  }
 ],
 "metadata": {
  "kernelspec": {
   "display_name": "Python 3 (ipykernel)",
   "language": "python",
   "name": "python3"
  },
  "language_info": {
   "codemirror_mode": {
    "name": "ipython",
    "version": 3
   },
   "file_extension": ".py",
   "mimetype": "text/x-python",
   "name": "python",
   "nbconvert_exporter": "python",
   "pygments_lexer": "ipython3",
   "version": "3.10.8"
  }
 },
 "nbformat": 4,
 "nbformat_minor": 5
}
