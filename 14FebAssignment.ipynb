{
 "cells": [
  {
   "cell_type": "markdown",
   "id": "12b8f205-fe4a-47c3-96c8-d45776b4aff1",
   "metadata": {},
   "source": [
    "##Q.1"
   ]
  },
  {
   "cell_type": "markdown",
   "id": "9a521e86-2a0d-4c3b-9b10-b8a99236bc9f",
   "metadata": {},
   "source": [
    "In Python, multithreading is a technique for achieving concurrency by running multiple threads at the same time. Threads are independent processes that can run concurrently, and each thread can handle a different task. This allows for parallel execution of code, which can improve overall performance and speed. Multithreading can also make programs more responsive, since it allows them to handle multiple tasks simultaneously.\n",
    "\n",
    "Multithreading in Python is used to allow multiple threads to execute concurrently, utilizing system resources more efficiently and increasing performance.\n",
    "\n",
    "The threading module in Python is used for multithreading. It uses threads to provide a more multitasking environment than normal processes."
   ]
  },
  {
   "cell_type": "code",
   "execution_count": null,
   "id": "60cf0112-f4fe-433b-afea-980618d0c3e5",
   "metadata": {},
   "outputs": [],
   "source": []
  },
  {
   "cell_type": "markdown",
   "id": "5346f253-973b-4a08-a8ce-4d32be28e076",
   "metadata": {},
   "source": [
    "##Q.2"
   ]
  },
  {
   "cell_type": "markdown",
   "id": "9ca98bd7-a397-4843-8633-96dd83c157cc",
   "metadata": {},
   "source": [
    "The threading module in Python is used to manage concurrent threads within a single process. It allows multiple threads to run concurrently and is useful for parallel execution of tasks.\n",
    "\n",
    "1. activecount(): This method returns the number of active Thread objects associated with the current thread.\n",
    "\n",
    "2. currentthread(): This method returns a reference to the current thread object.\n",
    "\n",
    "3. enumerate(): This method returns a list of all active Thread objects."
   ]
  },
  {
   "cell_type": "code",
   "execution_count": null,
   "id": "d0e71f65-3466-4dc0-8367-15ef8904611e",
   "metadata": {},
   "outputs": [],
   "source": []
  },
  {
   "cell_type": "code",
   "execution_count": null,
   "id": "43e6ddeb-8086-4eb1-a972-04af974b1334",
   "metadata": {},
   "outputs": [],
   "source": []
  },
  {
   "cell_type": "markdown",
   "id": "6c208e49-5dba-4185-9fb9-809e3efb5f40",
   "metadata": {},
   "source": [
    "##Q.3"
   ]
  },
  {
   "cell_type": "markdown",
   "id": "9f6bbef5-fb89-400e-bae5-6d27d0b1cf6c",
   "metadata": {},
   "source": [
    "The run() method is used to start a thread. \n",
    "\n",
    "Main difference is that when program calls start() method a new Thread is created and code inside run() method is executed in new Thread.\n",
    "\n",
    "while if you call run() method directly no new Thread is created and code inside run() will execute on current Thread.\n",
    "\n",
    "\n",
    "\n",
    "The join() method is used to wait for a thread to finish its execution.\n",
    "\n",
    "The alive() method is used to check if a thread is still alive."
   ]
  },
  {
   "cell_type": "code",
   "execution_count": null,
   "id": "e27895d6-e6bf-44b8-bc50-54d7e9a3d761",
   "metadata": {},
   "outputs": [],
   "source": []
  },
  {
   "cell_type": "code",
   "execution_count": null,
   "id": "fde325bd-454d-4c3a-927d-55e60c5ceb58",
   "metadata": {},
   "outputs": [],
   "source": []
  },
  {
   "cell_type": "markdown",
   "id": "e921c6d7-e52a-4513-9b07-db3ad10df3fb",
   "metadata": {},
   "source": [
    "##Q.4"
   ]
  },
  {
   "cell_type": "code",
   "execution_count": 19,
   "id": "40ef09e6-f8f6-483b-bed9-0e10a96ef938",
   "metadata": {},
   "outputs": [],
   "source": [
    "import threading"
   ]
  },
  {
   "cell_type": "code",
   "execution_count": 33,
   "id": "b6af27ff-6f4b-48ff-a740-04c50888a3c4",
   "metadata": {},
   "outputs": [
    {
     "name": "stdout",
     "output_type": "stream",
     "text": [
      "[1, 4, 9, 16, 25, 36, 49, 64, 81]\n",
      "[1, 8, 27, 64, 125, 216, 343, 512, 729]\n"
     ]
    }
   ],
   "source": [
    "def print_square(num):\n",
    "    lst=[]\n",
    "    for i in num:\n",
    "        r = i * i\n",
    "        lst.append(r)\n",
    "    print(lst)\n",
    "\n",
    "def print_cube(num):\n",
    "    lst=[]\n",
    "    for i in num:\n",
    "        c = i * i * i\n",
    "        lst.append(c)\n",
    "    print(lst)\n",
    "\n",
    "numbers=[1,2,3,4,5,6,7,8,9]\n",
    "    \n",
    "t1 = threading.Thread(target = print_square, args=(numbers,))\n",
    "t2 = threading.Thread(target = print_cube, args=(numbers,))\n",
    "\n",
    "t1.start()\n",
    "t2.start()"
   ]
  },
  {
   "cell_type": "code",
   "execution_count": null,
   "id": "babc96fc-6cbf-49c3-a53e-fc0a7ec1748b",
   "metadata": {},
   "outputs": [],
   "source": []
  },
  {
   "cell_type": "code",
   "execution_count": null,
   "id": "2a4763e7-cdf0-4281-ae25-4016cc42c907",
   "metadata": {},
   "outputs": [],
   "source": []
  },
  {
   "cell_type": "markdown",
   "id": "a0783ade-7c0f-4274-b34e-bd3c16c0d0b9",
   "metadata": {},
   "source": [
    "##Q.5"
   ]
  },
  {
   "cell_type": "markdown",
   "id": "d87b9148-349d-4810-9a05-10d317d3f9c1",
   "metadata": {},
   "source": [
    "Advantages:\n",
    "\n",
    "• Multithreading allows multiple tasks to be run concurrently, increasing utilization of the CPU and allowing multiple tasks to be completed faster.\n",
    "\n",
    "• Multithreading is more efficient than multitasking, as it requires fewer resources and is more efficient in its use of the CPU.\n",
    "\n",
    "• Multithreading enables better use of multiple processor cores, as multiple threads can be executed in parallel.\n",
    "\n",
    "• Multithreading can improve responsiveness and performance by allowing tasks to be executed in the background while the user is working on something else.\n",
    "\n",
    "• Multithreading can help reduce latency as multiple threads can be running at the same time.\n",
    "\n",
    "Disadvantages:\n",
    "\n",
    "• Multithreading can be difficult to debug due to the complexity of managing multiple threads.\n",
    "\n",
    "• Multithreading can increase the risk of race conditions and deadlocks occurring.\n",
    "\n",
    "• Multithreading can lead to increased memory consumption, as each thread requires its own memory space.\n",
    "\n",
    "• Multithreading can lead to poor performance if threads are not managed properly."
   ]
  },
  {
   "cell_type": "code",
   "execution_count": null,
   "id": "00f67692-8ab4-4da8-9c33-4aeaaf93b4e9",
   "metadata": {},
   "outputs": [],
   "source": []
  },
  {
   "cell_type": "markdown",
   "id": "88d595ad-84e7-44f3-8a5d-04e765629363",
   "metadata": {},
   "source": [
    "##Q.6"
   ]
  },
  {
   "cell_type": "markdown",
   "id": "a1e8a043-572e-4d3d-b7f7-41215972b07c",
   "metadata": {},
   "source": [
    "Deadlocks: A deadlock is a situation in which two or more competing actions are each waiting for the other to finish, and thus neither ever does. In Python, a deadlock occurs when two threads are each waiting for a lock held by the other thread. This can prevent the program from making progress and cause it to hang.\n",
    "\n",
    "Race conditions: A race condition is a situation in which two or more threads access the same shared resource in an unpredictable order. This can lead to unexpected and erroneous behavior, as the results of the computations may depend on the order in which the threads access the resource. In Python, a race condition can occur when two threads access the same mutable object without using locks or other synchronization methods."
   ]
  }
 ],
 "metadata": {
  "kernelspec": {
   "display_name": "Python 3 (ipykernel)",
   "language": "python",
   "name": "python3"
  },
  "language_info": {
   "codemirror_mode": {
    "name": "ipython",
    "version": 3
   },
   "file_extension": ".py",
   "mimetype": "text/x-python",
   "name": "python",
   "nbconvert_exporter": "python",
   "pygments_lexer": "ipython3",
   "version": "3.10.8"
  }
 },
 "nbformat": 4,
 "nbformat_minor": 5
}
