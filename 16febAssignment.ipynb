{
 "cells": [
  {
   "cell_type": "markdown",
   "id": "f10405b6-7e6c-44ad-99c7-2598168d4337",
   "metadata": {},
   "source": [
    "##Q.1"
   ]
  },
  {
   "cell_type": "markdown",
   "id": "879e310e-89de-4a26-bc6b-757c264b688f",
   "metadata": {},
   "source": [
    "A database is a collection of information that is organized and stored in a structured way, usually in a computer system, so that it can be accessed and manipulated. \n",
    "\n",
    "SQL (Structured Query Language) databases are based on relational models and use data in a structured format, usually in tables. SQL databases are well-suited for structured data and support complex queries, transactions, and security. \n",
    "\n",
    "NoSQL (Not Only SQL) databases are based on non-relational models and do not use fixed table schemas. NoSQL databases are a better choice for unstructured data, such as documents, images, and videos. They are also better suited for high-performance applications that require scalability and availability."
   ]
  },
  {
   "cell_type": "code",
   "execution_count": null,
   "id": "cba9b973-7909-43ac-8b31-222856e070a8",
   "metadata": {},
   "outputs": [],
   "source": []
  },
  {
   "cell_type": "markdown",
   "id": "659d77e8-39ca-4b8f-a46b-802d9edfa333",
   "metadata": {},
   "source": [
    "##Q.2"
   ]
  },
  {
   "cell_type": "markdown",
   "id": "117e2d88-0769-486f-97a9-6a456e5637d4",
   "metadata": {},
   "source": [
    "Data Definition Language(DDL) is a subset of SQL and a part of DBMS(Database Management System). DDL consist of Commands to commands like CREATE, ALTER, TRUNCATE and DROP. These commands are used to create or modify the tables in SQL.\n",
    "\n",
    "CREATE :\n",
    "This command is used to create a new table in SQL. The user has to give information like table name, column names, and their datatypes. EX:\n",
    "CREATE TABLE Student_info\n",
    "(\n",
    "College_Id number(2),\n",
    "College_name varchar(30),\n",
    "Branch varchar(10)\n",
    ");\n",
    "\n",
    "ALTER :\n",
    "This command is used to add, delete or change columns in the existing table. The user needs to know the existing table name and can do add, delete or modify tasks easily.EX:\n",
    "ALTER TABLE Student_info\n",
    "ADD CGPA number;\n",
    "\n",
    "TRUNCATE: This command is used to remove all rows from the table, but the structure of the table still exists.\n",
    "TRUNCATE TABLE table_name;\n",
    "\n",
    "DROP :\n",
    "This command is used to remove an existing table along with its structure from the Database.\n",
    "EX: DROP TABLE Student_info;\n",
    "\n"
   ]
  },
  {
   "cell_type": "code",
   "execution_count": null,
   "id": "6e0616a2-fed1-413d-81bb-1f357f8b740b",
   "metadata": {},
   "outputs": [],
   "source": []
  },
  {
   "cell_type": "markdown",
   "id": "df6b097e-3c34-4df0-98af-b432dcb64654",
   "metadata": {},
   "source": [
    "##Q.3"
   ]
  },
  {
   "cell_type": "markdown",
   "id": "96178a32-1264-4974-9d02-fdc156d2624d",
   "metadata": {},
   "source": [
    "The SQL commands that deals with the manipulation of data present in the database belong to DML or Data Manipulation Language and this includes most of the SQL statements. It is the component of the SQL statement that controls access to data and to the database. Basically, DCL statements are grouped with DML statements.\n",
    "\n",
    "INSERT\n",
    "Insert command is used to insert data into a table.\n",
    "\n",
    "The syntax for insert command is as follows −\n",
    "\n",
    "Syntax\n",
    "Insert into <table_name> (column list) values (column values);\n",
    "\n",
    "\n",
    "DELETE\n",
    "Delete command is used to delete records from a database table.\n",
    "\n",
    "The syntax for the delete command is as follows -\n",
    "\n",
    "Syntax\n",
    " Delete from <table_name>WHERE condition;\n",
    " \n",
    " \n",
    " UPDATE\n",
    "Update command is used to update existing data within a table.\n",
    "\n",
    "The syntax for the update command is as follows -\n",
    "\n",
    "Syntax\n",
    "UPDATE <table_name> SET column_number =value_number WHERE condition;"
   ]
  },
  {
   "cell_type": "code",
   "execution_count": null,
   "id": "e82904ac-3569-4ad2-abe8-f209eb830225",
   "metadata": {},
   "outputs": [],
   "source": []
  },
  {
   "cell_type": "markdown",
   "id": "8cdb248b-f9f5-46cf-9b9f-13dcaa40c621",
   "metadata": {},
   "source": [
    "##Q.4"
   ]
  },
  {
   "cell_type": "markdown",
   "id": "ddc09fa8-a608-4612-b8f6-08afdf6a2ff0",
   "metadata": {},
   "source": [
    "DQL (Data Query Language):\n",
    "DQL statements are used for performing queries on the data within schema objects. The purpose of the DQL Command is to get some schema relation based on the query passed to it. We can define DQL as follows: it is a component of SQL that allows getting data from the database and imposing order upon it. It includes the SELECT statement. This command allows getting the data out of the database to perform operations with it. When a SELECT is fired against a table or tables the result is compiled into a further temporary table, which is displayed or perhaps received by the program i.e. a front-end.\n",
    "List of DQL:\n",
    "\n",
    "SELECT: It is used to retrieve data from the database.\n",
    "This command helps you to select the attribute based on the condition described by the WHERE clause.\n",
    "\n",
    "Syntax:\n",
    "\n",
    "SELECT expressions FROM TABLES WHERE conditions;  "
   ]
  },
  {
   "cell_type": "code",
   "execution_count": null,
   "id": "127a9fb5-8548-4fd7-ac7c-c811fcd92710",
   "metadata": {},
   "outputs": [],
   "source": []
  },
  {
   "cell_type": "code",
   "execution_count": null,
   "id": "34b5b0df-edfe-4902-945c-7f730e16e63b",
   "metadata": {},
   "outputs": [],
   "source": []
  },
  {
   "cell_type": "markdown",
   "id": "8bf9bb48-80b3-4830-b017-62132746054b",
   "metadata": {},
   "source": [
    "##Q.5"
   ]
  },
  {
   "cell_type": "markdown",
   "id": "16ad573b-684a-4298-b077-0ed54e46acd0",
   "metadata": {},
   "source": [
    "A primary key is a field in a table that uniquely identifies each record in the table. It is usually a numeric value or a combination of fields that uniquely identify each record. \n",
    "\n",
    "A foreign key is a field in a table that is linked to a primary key in another table. It is used to establish a relationship between the two tables and is used to ensure data integrity."
   ]
  },
  {
   "cell_type": "code",
   "execution_count": null,
   "id": "2babcd06-89a3-4d9e-bd19-3dba37d66524",
   "metadata": {},
   "outputs": [],
   "source": []
  },
  {
   "cell_type": "markdown",
   "id": "9dd8159c-8758-4009-a01e-4c39cbf39b96",
   "metadata": {},
   "source": [
    "##Q.6"
   ]
  },
  {
   "cell_type": "markdown",
   "id": "36e702f9-df21-4872-bc13-a84062849edf",
   "metadata": {},
   "source": [
    "import mysql.connector\n",
    "\n",
    "'''The cursor() method is used to create a cursor object that can be used to execute SQL queries. This method takes no arguments and returns a cursor object.\n",
    "\n",
    "The execute() method is used to execute an SQL query using the cursor object. This method takes an SQL query as a string and optional parameters as arguments. It returns a result set if the query is a select query, otherwise it returns the number of rows affected.'''"
   ]
  },
  {
   "cell_type": "code",
   "execution_count": null,
   "id": "4c3c7529-c570-470d-ac2b-4f33141bdb11",
   "metadata": {},
   "outputs": [],
   "source": [
    "connections = mysql.connector.connect(\n",
    "    host = 'localhost',\n",
    "    user = 'srk',\n",
    "    password = 'kk'\n",
    ")\n",
    "print(connections)\n",
    "mycursor = connections.cursor()\n",
    "mycursor.execute()"
   ]
  },
  {
   "cell_type": "code",
   "execution_count": null,
   "id": "2ab79f68-9f4a-45e9-9686-e3aab86b5159",
   "metadata": {},
   "outputs": [],
   "source": []
  },
  {
   "cell_type": "markdown",
   "id": "ad016889-7ea0-4356-ace6-264908c8d9b1",
   "metadata": {},
   "source": [
    "##Q.7"
   ]
  },
  {
   "cell_type": "markdown",
   "id": "14755c06-f475-4ebb-8c55-b9cc6904516b",
   "metadata": {},
   "source": [
    "1\tFROM\tTables are joined to get the base data.\n",
    "\n",
    "2\tWHERE\tThe base data is filtered.\n",
    "\n",
    "3\tGROUP BY\tThe filtered base data is grouped.\n",
    "\n",
    "4\tHAVING\tThe grouped base data is filtered.\n",
    "\n",
    "5\tSELECT\tThe final data is returned.\n",
    "\n",
    "6\tORDER BY\tThe final data is sorted.\n",
    "\n",
    "7\tLIMIT\tThe returned data is limited to row count.\n"
   ]
  }
 ],
 "metadata": {
  "kernelspec": {
   "display_name": "Python 3 (ipykernel)",
   "language": "python",
   "name": "python3"
  },
  "language_info": {
   "codemirror_mode": {
    "name": "ipython",
    "version": 3
   },
   "file_extension": ".py",
   "mimetype": "text/x-python",
   "name": "python",
   "nbconvert_exporter": "python",
   "pygments_lexer": "ipython3",
   "version": "3.10.8"
  }
 },
 "nbformat": 4,
 "nbformat_minor": 5
}
