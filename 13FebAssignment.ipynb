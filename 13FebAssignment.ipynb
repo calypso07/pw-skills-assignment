{
 "cells": [
  {
   "cell_type": "markdown",
   "id": "8096a075-d135-4db0-a009-4bbcd73b6195",
   "metadata": {},
   "source": [
    "## Q.1"
   ]
  },
  {
   "cell_type": "markdown",
   "id": "ac51df55-8c69-4a6f-b636-fb4ca7bbeb33",
   "metadata": {},
   "source": [
    "The Exception class is the base class for all built-in exceptions in Python. When creating a custom exception, it is important to extend the Exception class in order to ensure that the custom exception is properly handled. By extending the Exception class, the custom exception is able to inherit the methods and attributes of the base class as well as any other parent classes in the exception hierarchy. This allows the custom exception to be properly handled by the interpreter when an error occurs."
   ]
  },
  {
   "cell_type": "code",
   "execution_count": null,
   "id": "4b9e6ca1-f6b2-4925-a7fb-6ebc3878a228",
   "metadata": {},
   "outputs": [],
   "source": []
  },
  {
   "cell_type": "markdown",
   "id": "1042f428-1766-4318-8191-aa7fb64b1866",
   "metadata": {},
   "source": [
    "## Q.2"
   ]
  },
  {
   "cell_type": "code",
   "execution_count": 3,
   "id": "b3677deb-f7a9-4f47-9b55-e51d583cb50e",
   "metadata": {},
   "outputs": [
    {
     "name": "stdout",
     "output_type": "stream",
     "text": [
      "specific eception [Errno 2] No such file or directory: 'nofile.txt'\n"
     ]
    }
   ],
   "source": [
    "try:\n",
    "    f = open('nofile.txt', 'r')\n",
    "    f.read()\n",
    "except FileNotFoundError as e:\n",
    "    print('specific eception', e)\n",
    "except Exception as e:\n",
    "    print('base exception', e)"
   ]
  },
  {
   "cell_type": "code",
   "execution_count": null,
   "id": "64007c23-4f8e-47e9-8037-fb443e56b855",
   "metadata": {},
   "outputs": [],
   "source": []
  },
  {
   "cell_type": "markdown",
   "id": "a73e116c-0201-44a4-afce-3d655ed0007c",
   "metadata": {},
   "source": [
    "## Q.3"
   ]
  },
  {
   "cell_type": "markdown",
   "id": "06ef1255-c1ff-474a-afb1-5ea2451fcdba",
   "metadata": {},
   "source": [
    "ArithmeticError is simply an error that occurs during numeric calculations. ArithmeticError types in Python include:\n",
    "OverFlowError. \n",
    "ZeroDivisionError.\n",
    "Zero Division Error:\n",
    "\n",
    "This error occurs when you attempt to divide a number by zero. In Python, this error is raised as a ZeroDivisionError.\n",
    "\n",
    "Overflow Error:\n",
    "\n",
    "This error occurs when the result of an operation exceeds the maximum size of a number that can be stored in the memory. In Python, this error is raised as an OverflowError."
   ]
  },
  {
   "cell_type": "code",
   "execution_count": null,
   "id": "c0eb0e30-950d-4559-8e43-24b7cd22aea8",
   "metadata": {},
   "outputs": [],
   "source": [
    "## Division by Zero: This is a common arithmetic error in Python that occurs when a program attempts to divide a number by zero. For example:\n",
    "\n",
    "x = 10\n",
    "y = 0\n",
    "\n",
    "z = x / y\n",
    "\n",
    "## This would produce a ZeroDivisionError, as the operation is not allowed."
   ]
  },
  {
   "cell_type": "code",
   "execution_count": null,
   "id": "ae5d9043-e4ca-473a-8bad-c1ec297da775",
   "metadata": {},
   "outputs": [],
   "source": []
  },
  {
   "cell_type": "markdown",
   "id": "b445884c-0e6f-4802-ab41-90d4b8d6380b",
   "metadata": {},
   "source": [
    "## Q.4"
   ]
  },
  {
   "cell_type": "markdown",
   "id": "0291d9cb-93b6-4c05-ac17-c4301d931f07",
   "metadata": {},
   "source": [
    "LookupError is a built-in class in Python that is used to indicate errors when trying to access elements from a sequence or collection. It is a base class for all such errors that may arise when the value being looked up does not exist.\n",
    "\n",
    "KeyError is raised when an invalid key is used in a dictionary to look up a value.\n",
    "\n",
    "\n",
    "IndexError is raised when an index out of range is used in a sequence to look up an item."
   ]
  },
  {
   "cell_type": "code",
   "execution_count": null,
   "id": "9ee39b4e-c056-45df-aa49-d167a9495136",
   "metadata": {},
   "outputs": [],
   "source": [
    "#key error\n",
    "d = {'a':1, 'b':2, 'c':3}\n",
    "d['d']"
   ]
  },
  {
   "cell_type": "code",
   "execution_count": null,
   "id": "0ede28eb-a230-45a9-8fdc-4249bfa26eca",
   "metadata": {},
   "outputs": [],
   "source": [
    "#index error\n",
    "l = [1,3,5,5]\n",
    "l[9]"
   ]
  },
  {
   "cell_type": "code",
   "execution_count": null,
   "id": "120c4a28-4a98-4d50-9f72-97e64aa2a5d9",
   "metadata": {},
   "outputs": [],
   "source": []
  },
  {
   "cell_type": "markdown",
   "id": "294bfa29-2d63-4112-984c-80375ed211c1",
   "metadata": {},
   "source": [
    "## Q.5"
   ]
  },
  {
   "cell_type": "markdown",
   "id": "c2fbe321-6121-423f-a77b-45b86e71195d",
   "metadata": {},
   "source": [
    "ImportError is an exception raised when the Python interpreter is unable to find the module specified in an import statement. This can happen if the module does not exist, or if the module's path is not in the Python path.\n",
    "\n",
    "ModuleNotFoundError is a subclass of ImportError. It is raised when the module specified in an import statement cannot be found. This may occur if the module does not exist, or if the module's path is not in the Python path."
   ]
  },
  {
   "cell_type": "code",
   "execution_count": null,
   "id": "aaa8bac7-4aae-47bc-8fbf-509452c3435e",
   "metadata": {},
   "outputs": [],
   "source": []
  },
  {
   "cell_type": "markdown",
   "id": "cd66bd6a-21a7-4c24-99da-1bf8f8079ff7",
   "metadata": {},
   "source": [
    "## Q.6"
   ]
  },
  {
   "cell_type": "markdown",
   "id": "07222e80-2b5e-472f-8f99-d6d9b9cea6f8",
   "metadata": {},
   "source": [
    "#Use the specific except clauses to handle specific exceptions.\n",
    "\n",
    "#Use raise statements and always print a valid message.\n",
    "\n",
    "#Use the else clause to specify a block of code to be executed if no exceptions are raised.\n",
    "\n",
    "#Use logging to log exceptions for later debugging and analysis\n",
    "\n",
    "#Prepare a proper documentation\n",
    "\n",
    "#Clean up all the resources\n",
    "\n",
    "#Avoid using bare except clauses to catch all exceptions.\n",
    "\n",
    "#Use the finally clause to execute a block of code regardless of whether an exception has occurred or not."
   ]
  },
  {
   "cell_type": "code",
   "execution_count": null,
   "id": "d3e32769-f837-47ba-bd88-7cff2397d8cf",
   "metadata": {},
   "outputs": [],
   "source": []
  }
 ],
 "metadata": {
  "kernelspec": {
   "display_name": "Python 3 (ipykernel)",
   "language": "python",
   "name": "python3"
  },
  "language_info": {
   "codemirror_mode": {
    "name": "ipython",
    "version": 3
   },
   "file_extension": ".py",
   "mimetype": "text/x-python",
   "name": "python",
   "nbconvert_exporter": "python",
   "pygments_lexer": "ipython3",
   "version": "3.10.8"
  }
 },
 "nbformat": 4,
 "nbformat_minor": 5
}
