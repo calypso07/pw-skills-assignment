{
 "cells": [
  {
   "cell_type": "code",
   "execution_count": 3,
   "id": "c688c4fd-cfef-4cd6-b305-6e9003371d8e",
   "metadata": {},
   "outputs": [],
   "source": [
    "import pandas as pd"
   ]
  },
  {
   "cell_type": "code",
   "execution_count": null,
   "id": "43e2bca0-0cb2-42ca-b5ea-3a6f3c0bc9d7",
   "metadata": {},
   "outputs": [],
   "source": []
  },
  {
   "cell_type": "code",
   "execution_count": null,
   "id": "cbed6471-bc6b-46f8-994e-7ff7ee383ff8",
   "metadata": {},
   "outputs": [],
   "source": []
  },
  {
   "cell_type": "code",
   "execution_count": null,
   "id": "78499550-683d-4beb-98c2-fefa5fd5640d",
   "metadata": {},
   "outputs": [],
   "source": []
  },
  {
   "cell_type": "markdown",
   "id": "2939c90d-36bf-465d-92ad-204ba259b150",
   "metadata": {},
   "source": []
  },
  {
   "cell_type": "markdown",
   "id": "546078dd-2f82-43fc-84cd-0a833a560ac8",
   "metadata": {},
   "source": [
    "Q.1"
   ]
  },
  {
   "cell_type": "code",
   "execution_count": 5,
   "id": "cb89e2b2-1aff-426f-a7cd-4dc47bfcbdd9",
   "metadata": {},
   "outputs": [],
   "source": [
    "course_name = ['Data Science', 'Machine Learning', 'Big Data', 'Data Engineer']\n",
    "duration = [2,3,6,4]\n",
    "df = pd.DataFrame(data = {'course_name' : course_name, 'duration' : duration})"
   ]
  },
  {
   "cell_type": "code",
   "execution_count": 6,
   "id": "05e87b18-fdf6-48b8-8d60-ed0b691d3802",
   "metadata": {},
   "outputs": [
    {
     "data": {
      "text/html": [
       "<div>\n",
       "<style scoped>\n",
       "    .dataframe tbody tr th:only-of-type {\n",
       "        vertical-align: middle;\n",
       "    }\n",
       "\n",
       "    .dataframe tbody tr th {\n",
       "        vertical-align: top;\n",
       "    }\n",
       "\n",
       "    .dataframe thead th {\n",
       "        text-align: right;\n",
       "    }\n",
       "</style>\n",
       "<table border=\"1\" class=\"dataframe\">\n",
       "  <thead>\n",
       "    <tr style=\"text-align: right;\">\n",
       "      <th></th>\n",
       "      <th>course_name</th>\n",
       "      <th>duration</th>\n",
       "    </tr>\n",
       "  </thead>\n",
       "  <tbody>\n",
       "    <tr>\n",
       "      <th>0</th>\n",
       "      <td>Data Science</td>\n",
       "      <td>2</td>\n",
       "    </tr>\n",
       "    <tr>\n",
       "      <th>1</th>\n",
       "      <td>Machine Learning</td>\n",
       "      <td>3</td>\n",
       "    </tr>\n",
       "    <tr>\n",
       "      <th>2</th>\n",
       "      <td>Big Data</td>\n",
       "      <td>6</td>\n",
       "    </tr>\n",
       "    <tr>\n",
       "      <th>3</th>\n",
       "      <td>Data Engineer</td>\n",
       "      <td>4</td>\n",
       "    </tr>\n",
       "  </tbody>\n",
       "</table>\n",
       "</div>"
      ],
      "text/plain": [
       "        course_name  duration\n",
       "0      Data Science         2\n",
       "1  Machine Learning         3\n",
       "2          Big Data         6\n",
       "3     Data Engineer         4"
      ]
     },
     "execution_count": 6,
     "metadata": {},
     "output_type": "execute_result"
    }
   ],
   "source": [
    "df"
   ]
  },
  {
   "cell_type": "code",
   "execution_count": 12,
   "id": "78e198f3-6bf6-4404-96b3-38dd570e6932",
   "metadata": {},
   "outputs": [
    {
     "data": {
      "text/html": [
       "<div>\n",
       "<style scoped>\n",
       "    .dataframe tbody tr th:only-of-type {\n",
       "        vertical-align: middle;\n",
       "    }\n",
       "\n",
       "    .dataframe tbody tr th {\n",
       "        vertical-align: top;\n",
       "    }\n",
       "\n",
       "    .dataframe thead th {\n",
       "        text-align: right;\n",
       "    }\n",
       "</style>\n",
       "<table border=\"1\" class=\"dataframe\">\n",
       "  <thead>\n",
       "    <tr style=\"text-align: right;\">\n",
       "      <th></th>\n",
       "      <th>course_name</th>\n",
       "      <th>duration</th>\n",
       "    </tr>\n",
       "  </thead>\n",
       "  <tbody>\n",
       "    <tr>\n",
       "      <th>1</th>\n",
       "      <td>Machine Learning</td>\n",
       "      <td>3</td>\n",
       "    </tr>\n",
       "  </tbody>\n",
       "</table>\n",
       "</div>"
      ],
      "text/plain": [
       "        course_name  duration\n",
       "1  Machine Learning         3"
      ]
     },
     "execution_count": 12,
     "metadata": {},
     "output_type": "execute_result"
    }
   ],
   "source": [
    "df[1:2]"
   ]
  },
  {
   "cell_type": "code",
   "execution_count": 19,
   "id": "e587348e-7f3f-4927-a8cf-4ceb3e28ae7a",
   "metadata": {},
   "outputs": [
    {
     "data": {
      "text/plain": [
       "course_name    Machine Learning\n",
       "duration                      3\n",
       "Name: 1, dtype: object"
      ]
     },
     "execution_count": 19,
     "metadata": {},
     "output_type": "execute_result"
    }
   ],
   "source": [
    "df.iloc[1]"
   ]
  },
  {
   "cell_type": "code",
   "execution_count": null,
   "id": "82f4aeb2-7bb8-43b7-a03c-4fad4f94a086",
   "metadata": {},
   "outputs": [],
   "source": []
  },
  {
   "cell_type": "markdown",
   "id": "a1a3cf07-a727-49a1-b300-6663ff379c67",
   "metadata": {},
   "source": [
    "Q.2"
   ]
  },
  {
   "cell_type": "markdown",
   "id": "19708fcf-e008-4e69-b37a-1f1e2a5e67d8",
   "metadata": {},
   "source": [
    "Both loc and iloc are methods in Pandas that allow you to access subsets of a DataFrame. However, they differ in the way they handle indexing:\n",
    "\n",
    "iloc is used for integer-based indexing: You can use integer positions to access rows and columns of a DataFrame. The syntax for using iloc is df.iloc[row_index, column_index], where df is the DataFrame, and row_index and column_index refer to the integer position of the row and column, respectively. For example, df.iloc[0, 1] will return the value at the first row and second column.\n",
    "\n",
    "loc is used for label-based indexing: You can use labels to access rows and columns of a DataFrame. The syntax for using loc is df.loc[row_label, column_label], where row_label and column_label refer to the label of the row and column, respectively. For example, df.loc['row_label', 'column_label'] will return the value at the row with the specified label and column with the specified label.\n",
    "\n",
    "In short, the main difference between iloc and loc is that iloc uses integer-based indexing while loc uses label-based indexing.\n",
    "\n"
   ]
  },
  {
   "cell_type": "code",
   "execution_count": null,
   "id": "9a0e9a34-94ec-42f0-9c1c-8176bf7ad5ed",
   "metadata": {},
   "outputs": [],
   "source": []
  },
  {
   "cell_type": "code",
   "execution_count": null,
   "id": "35bfaff3-11b3-4f4d-a5e1-70e4a466bbd5",
   "metadata": {},
   "outputs": [],
   "source": []
  },
  {
   "cell_type": "markdown",
   "id": "8b654566-df79-4da0-b237-61782c25eb8f",
   "metadata": {},
   "source": [
    "Q.3\n"
   ]
  },
  {
   "cell_type": "code",
   "execution_count": 20,
   "id": "1ba389d2-a629-44a7-af4d-1bfefd5d5712",
   "metadata": {},
   "outputs": [],
   "source": [
    "reindex = [3,0,1,2]\n",
    "new_df = df.reindex(reindex)"
   ]
  },
  {
   "cell_type": "code",
   "execution_count": 24,
   "id": "771786cc-eb10-45bb-9e68-c0d12113d65a",
   "metadata": {},
   "outputs": [
    {
     "data": {
      "text/html": [
       "<div>\n",
       "<style scoped>\n",
       "    .dataframe tbody tr th:only-of-type {\n",
       "        vertical-align: middle;\n",
       "    }\n",
       "\n",
       "    .dataframe tbody tr th {\n",
       "        vertical-align: top;\n",
       "    }\n",
       "\n",
       "    .dataframe thead th {\n",
       "        text-align: right;\n",
       "    }\n",
       "</style>\n",
       "<table border=\"1\" class=\"dataframe\">\n",
       "  <thead>\n",
       "    <tr style=\"text-align: right;\">\n",
       "      <th></th>\n",
       "      <th>course_name</th>\n",
       "      <th>duration</th>\n",
       "    </tr>\n",
       "  </thead>\n",
       "  <tbody>\n",
       "    <tr>\n",
       "      <th>3</th>\n",
       "      <td>Data Engineer</td>\n",
       "      <td>4</td>\n",
       "    </tr>\n",
       "    <tr>\n",
       "      <th>0</th>\n",
       "      <td>Data Science</td>\n",
       "      <td>2</td>\n",
       "    </tr>\n",
       "    <tr>\n",
       "      <th>1</th>\n",
       "      <td>Machine Learning</td>\n",
       "      <td>3</td>\n",
       "    </tr>\n",
       "    <tr>\n",
       "      <th>2</th>\n",
       "      <td>Big Data</td>\n",
       "      <td>6</td>\n",
       "    </tr>\n",
       "  </tbody>\n",
       "</table>\n",
       "</div>"
      ],
      "text/plain": [
       "        course_name  duration\n",
       "3     Data Engineer         4\n",
       "0      Data Science         2\n",
       "1  Machine Learning         3\n",
       "2          Big Data         6"
      ]
     },
     "execution_count": 24,
     "metadata": {},
     "output_type": "execute_result"
    }
   ],
   "source": [
    "new_df"
   ]
  },
  {
   "cell_type": "code",
   "execution_count": 22,
   "id": "d4877acb-0a33-471c-9548-c74176f05381",
   "metadata": {},
   "outputs": [
    {
     "data": {
      "text/plain": [
       "course_name    Machine Learning\n",
       "duration                      3\n",
       "Name: 1, dtype: object"
      ]
     },
     "execution_count": 22,
     "metadata": {},
     "output_type": "execute_result"
    }
   ],
   "source": [
    "new_df.iloc[2]"
   ]
  },
  {
   "cell_type": "code",
   "execution_count": 23,
   "id": "014f2f88-8586-41eb-8c53-07e31d9ac04b",
   "metadata": {},
   "outputs": [
    {
     "data": {
      "text/plain": [
       "course_name    Big Data\n",
       "duration              6\n",
       "Name: 2, dtype: object"
      ]
     },
     "execution_count": 23,
     "metadata": {},
     "output_type": "execute_result"
    }
   ],
   "source": [
    "new_df.loc[2]"
   ]
  },
  {
   "cell_type": "markdown",
   "id": "270fe490-932f-450b-90d1-267ff7afc144",
   "metadata": {},
   "source": [
    "Yes there is diffrence in both function iloc returned the index of 2 and loc found the value 2 in index column returned the corresponding row"
   ]
  },
  {
   "cell_type": "code",
   "execution_count": null,
   "id": "6a290f6e-d436-408c-b0c7-026a7fe0d420",
   "metadata": {},
   "outputs": [],
   "source": []
  },
  {
   "cell_type": "markdown",
   "id": "b2285b12-184f-4dce-8722-71465a863f19",
   "metadata": {},
   "source": [
    "Q.4"
   ]
  },
  {
   "cell_type": "code",
   "execution_count": 25,
   "id": "32504651-019c-4dfe-9494-2c4706fd9e3f",
   "metadata": {},
   "outputs": [],
   "source": [
    "import pandas as pd\n",
    "import numpy as np\n",
    "columns = ['column_1', 'column_2', 'column_3', 'column_4', 'column_5', 'column_6']\n",
    "indices = [1,2,3,4,5,6]\n",
    "#Creating a dataframe:\n",
    "df1 = pd.DataFrame(np.random.rand(6,6), columns = columns, index = indices)"
   ]
  },
  {
   "cell_type": "code",
   "execution_count": 45,
   "id": "08eedb6b-026e-4179-818b-7694a0cf6141",
   "metadata": {},
   "outputs": [
    {
     "data": {
      "text/html": [
       "<div>\n",
       "<style scoped>\n",
       "    .dataframe tbody tr th:only-of-type {\n",
       "        vertical-align: middle;\n",
       "    }\n",
       "\n",
       "    .dataframe tbody tr th {\n",
       "        vertical-align: top;\n",
       "    }\n",
       "\n",
       "    .dataframe thead th {\n",
       "        text-align: right;\n",
       "    }\n",
       "</style>\n",
       "<table border=\"1\" class=\"dataframe\">\n",
       "  <thead>\n",
       "    <tr style=\"text-align: right;\">\n",
       "      <th></th>\n",
       "      <th>column_1</th>\n",
       "      <th>column_2</th>\n",
       "      <th>column_3</th>\n",
       "      <th>column_4</th>\n",
       "      <th>column_5</th>\n",
       "      <th>column_6</th>\n",
       "    </tr>\n",
       "  </thead>\n",
       "  <tbody>\n",
       "    <tr>\n",
       "      <th>1</th>\n",
       "      <td>0.555549</td>\n",
       "      <td>0.564454</td>\n",
       "      <td>0.687645</td>\n",
       "      <td>0.907918</td>\n",
       "      <td>0.602006</td>\n",
       "      <td>0.503413</td>\n",
       "    </tr>\n",
       "    <tr>\n",
       "      <th>2</th>\n",
       "      <td>0.467649</td>\n",
       "      <td>0.727311</td>\n",
       "      <td>0.918109</td>\n",
       "      <td>0.159503</td>\n",
       "      <td>0.363735</td>\n",
       "      <td>0.912940</td>\n",
       "    </tr>\n",
       "    <tr>\n",
       "      <th>3</th>\n",
       "      <td>0.613249</td>\n",
       "      <td>0.546801</td>\n",
       "      <td>0.055863</td>\n",
       "      <td>0.417416</td>\n",
       "      <td>0.285854</td>\n",
       "      <td>0.040909</td>\n",
       "    </tr>\n",
       "    <tr>\n",
       "      <th>4</th>\n",
       "      <td>0.673114</td>\n",
       "      <td>0.949887</td>\n",
       "      <td>0.584768</td>\n",
       "      <td>0.419937</td>\n",
       "      <td>0.636713</td>\n",
       "      <td>0.105410</td>\n",
       "    </tr>\n",
       "    <tr>\n",
       "      <th>5</th>\n",
       "      <td>0.399503</td>\n",
       "      <td>0.876761</td>\n",
       "      <td>0.014359</td>\n",
       "      <td>0.723800</td>\n",
       "      <td>0.385140</td>\n",
       "      <td>0.711235</td>\n",
       "    </tr>\n",
       "    <tr>\n",
       "      <th>6</th>\n",
       "      <td>0.610622</td>\n",
       "      <td>0.650981</td>\n",
       "      <td>0.515477</td>\n",
       "      <td>0.249451</td>\n",
       "      <td>0.382134</td>\n",
       "      <td>0.931145</td>\n",
       "    </tr>\n",
       "  </tbody>\n",
       "</table>\n",
       "</div>"
      ],
      "text/plain": [
       "   column_1  column_2  column_3  column_4  column_5  column_6\n",
       "1  0.555549  0.564454  0.687645  0.907918  0.602006  0.503413\n",
       "2  0.467649  0.727311  0.918109  0.159503  0.363735  0.912940\n",
       "3  0.613249  0.546801  0.055863  0.417416  0.285854  0.040909\n",
       "4  0.673114  0.949887  0.584768  0.419937  0.636713  0.105410\n",
       "5  0.399503  0.876761  0.014359  0.723800  0.385140  0.711235\n",
       "6  0.610622  0.650981  0.515477  0.249451  0.382134  0.931145"
      ]
     },
     "execution_count": 45,
     "metadata": {},
     "output_type": "execute_result"
    }
   ],
   "source": [
    "df1"
   ]
  },
  {
   "cell_type": "code",
   "execution_count": 44,
   "id": "799eb646-344b-4fbf-8b5e-f41b56e0abe4",
   "metadata": {},
   "outputs": [
    {
     "data": {
      "text/plain": [
       "column_1    0.553281\n",
       "column_2    0.719366\n",
       "column_3    0.462703\n",
       "column_4    0.479671\n",
       "column_5    0.442597\n",
       "column_6    0.534175\n",
       "dtype: float64"
      ]
     },
     "execution_count": 44,
     "metadata": {},
     "output_type": "execute_result"
    }
   ],
   "source": [
    "df1.mean()"
   ]
  },
  {
   "cell_type": "code",
   "execution_count": 43,
   "id": "2d29b336-1799-4286-b9c2-9e1a739265ca",
   "metadata": {},
   "outputs": [
    {
     "data": {
      "text/plain": [
       "0.16518436158078098"
      ]
     },
     "execution_count": 43,
     "metadata": {},
     "output_type": "execute_result"
    }
   ],
   "source": [
    "df1['column_2'].std()"
   ]
  },
  {
   "cell_type": "code",
   "execution_count": null,
   "id": "0cd498a8-3032-4c71-90e4-265b68b76b70",
   "metadata": {},
   "outputs": [],
   "source": []
  },
  {
   "cell_type": "code",
   "execution_count": null,
   "id": "8a836258-ccb2-4c99-9cd4-fc66a10b4d36",
   "metadata": {},
   "outputs": [],
   "source": []
  },
  {
   "cell_type": "markdown",
   "id": "ed20cd05-2b2b-4412-bce8-420737abe683",
   "metadata": {},
   "source": [
    "Q.5"
   ]
  },
  {
   "cell_type": "code",
   "execution_count": 47,
   "id": "7ef0ac13-6569-4006-ab05-d1f103091f9b",
   "metadata": {},
   "outputs": [],
   "source": [
    "df1.loc[2, 'column_2'] = 'skr'"
   ]
  },
  {
   "cell_type": "markdown",
   "id": "dbb36020-dae3-4993-852e-f2b757772e4b",
   "metadata": {},
   "source": [
    "df1['column_2'].mean()  - error!"
   ]
  },
  {
   "cell_type": "markdown",
   "id": "f5b41f71-b137-41a2-941d-09c5f68cb59f",
   "metadata": {},
   "source": [
    "unsupported operand type(s) for +: 'float' and 'str' - error because mean can not be found for string and float data type togather"
   ]
  },
  {
   "cell_type": "code",
   "execution_count": null,
   "id": "1db17ba9-21c6-4947-8c64-e145bb2f4131",
   "metadata": {},
   "outputs": [],
   "source": []
  },
  {
   "cell_type": "code",
   "execution_count": null,
   "id": "0bfe7fd0-885d-443d-a02a-201c49037fe7",
   "metadata": {},
   "outputs": [],
   "source": []
  },
  {
   "cell_type": "markdown",
   "id": "673a9ebb-998f-413b-94d7-f0c4619acf76",
   "metadata": {},
   "source": [
    "Q.6"
   ]
  },
  {
   "cell_type": "markdown",
   "id": "73fac27d-e450-4911-a463-4b2c5ed62487",
   "metadata": {},
   "source": [
    "In Pandas, a window function is a function that performs a calculation over a sliding window of data. The sliding window is defined by a fixed-size window or a variable-size window based on a time-based or rolling window.\n",
    "\n",
    "The types of window functions in Pandas are:\n",
    "\n",
    "Rolling window functions: These functions compute an aggregate function over a fixed-size window of data that slides over the data. You can use a fixed-size window or a time-based window. Examples include rolling_mean(), rolling_sum(), rolling_median(), rolling_std(), and rolling_var().\n",
    "\n",
    "Expanding window functions: These functions compute an aggregate function over all the data points up to the current point. Examples include expanding_mean(), expanding_sum(), expanding_median(), expanding_std(), and expanding_var().\n",
    "\n",
    "Exponential weighted window functions: These functions compute a weighted average over a sliding window of data, where the weights decay exponentially over time. Examples include ewm(), ewma(), and ewmstd().\n",
    "\n",
    "Grouped window functions: These functions compute an aggregate function over a sliding window of data for each group in a grouped DataFrame. Examples include rolling_apply() and expanding_apply().\n",
    "\n",
    "Window functions can be useful for analyzing time-series data, as they allow you to calculate rolling statistics such as moving averages or rolling standard deviations. They can also be used for feature engineering and data preprocessing in machine learning, by computing statistics over a sliding window of data as input features."
   ]
  },
  {
   "cell_type": "code",
   "execution_count": null,
   "id": "c6a6826f-a58f-46cf-beed-bbf0a32629bb",
   "metadata": {},
   "outputs": [],
   "source": []
  },
  {
   "cell_type": "code",
   "execution_count": null,
   "id": "bc3db547-8fe6-4aad-8b77-602666d211a3",
   "metadata": {},
   "outputs": [],
   "source": []
  },
  {
   "cell_type": "markdown",
   "id": "6e51e66d-2943-4648-9070-b7a770e74bca",
   "metadata": {},
   "source": [
    "Q.7"
   ]
  },
  {
   "cell_type": "code",
   "execution_count": 51,
   "id": "b513eb44-aa30-4a59-9e61-172d3bd2841d",
   "metadata": {},
   "outputs": [],
   "source": [
    "now = pd.Timestamp.now()"
   ]
  },
  {
   "cell_type": "code",
   "execution_count": null,
   "id": "e96d70fe-aa5d-4201-b7d3-1d665ac91847",
   "metadata": {},
   "outputs": [],
   "source": [
    "Cyear = now.year\n",
    "Cmonth = now.month"
   ]
  },
  {
   "cell_type": "code",
   "execution_count": 56,
   "id": "3a94a9b4-6444-4ebf-9a15-33a81323a32e",
   "metadata": {},
   "outputs": [
    {
     "name": "stdout",
     "output_type": "stream",
     "text": [
      "2023\n",
      "4\n"
     ]
    }
   ],
   "source": [
    "print(Cyear)\n",
    "print(Cmonth)"
   ]
  },
  {
   "cell_type": "code",
   "execution_count": null,
   "id": "f3329395-40b4-4036-bca8-6796dc1b8fd9",
   "metadata": {},
   "outputs": [],
   "source": []
  },
  {
   "cell_type": "markdown",
   "id": "0de82d53-8d5b-4f4b-b8f3-e360e0721d3b",
   "metadata": {},
   "source": [
    "Q.8"
   ]
  },
  {
   "cell_type": "code",
   "execution_count": 4,
   "id": "66b13bb7-aecb-4e61-a3e3-b525b3c67acb",
   "metadata": {},
   "outputs": [
    {
     "name": "stdin",
     "output_type": "stream",
     "text": [
      "Enter date 1  2022-01-01\n",
      "Enter date 2  2022-01-10\n"
     ]
    },
    {
     "data": {
      "text/plain": [
       "Timedelta('9 days 00:00:00')"
      ]
     },
     "execution_count": 4,
     "metadata": {},
     "output_type": "execute_result"
    }
   ],
   "source": [
    "a = input(\"Enter date 1 \")\n",
    "b= input(\"Enter date 2 \")\n",
    "def datetimesf(a,b):\n",
    "    d1 = pd.to_datetime(a)\n",
    "    d2 = pd.to_datetime(b)\n",
    "    return d2-d1\n",
    "datetimesf(a,b)"
   ]
  },
  {
   "cell_type": "code",
   "execution_count": null,
   "id": "70598f7d-d095-4a08-a4d6-b8466dfcddf4",
   "metadata": {},
   "outputs": [],
   "source": []
  },
  {
   "cell_type": "markdown",
   "id": "02957c81-b221-419e-9454-dca29db30c77",
   "metadata": {},
   "source": [
    "Q.9"
   ]
  },
  {
   "cell_type": "code",
   "execution_count": null,
   "id": "6bd05d05-4e7d-4b04-adf5-db281bf9d2a4",
   "metadata": {},
   "outputs": [],
   "source": [
    "# prompt the user to enter the file path\n",
    "file_path = input(\"Enter path \")\n",
    "\n",
    "# prompt the user to enter the column name\n",
    "column_name = input(\"Enter column name: \")\n",
    "\n",
    "# prompt the user to enter the category order\n",
    "category_order = input(\"Enter the category\").split(\",\")\n",
    "\n",
    "# read the CSV file into a DataFrame\n",
    "df2 = pd.read_csv(file_path)\n",
    "\n",
    "# convert the specified column to a categorical data type with the specified category order\n",
    "df2[column_name] = pd.Categorical(df2[column_name], categories=category_order, ordered=True)\n",
    "\n",
    "# sort the data by the specified column\n",
    "df2 = df2.sort_values(by=column_name)\n",
    "\n",
    "print(df2)\n"
   ]
  },
  {
   "cell_type": "code",
   "execution_count": null,
   "id": "0b82bf1a-2f89-4d41-9379-e245a8fd3eb0",
   "metadata": {},
   "outputs": [],
   "source": []
  },
  {
   "cell_type": "code",
   "execution_count": null,
   "id": "b77d893c-1440-4ac4-b619-bf04731aaa28",
   "metadata": {},
   "outputs": [],
   "source": []
  },
  {
   "cell_type": "markdown",
   "id": "4176d04b-0287-4005-bb6c-370f89e90768",
   "metadata": {},
   "source": [
    "Q.10"
   ]
  },
  {
   "cell_type": "code",
   "execution_count": null,
   "id": "3baef7e1-9a4e-41c4-aa80-2f5082449dc5",
   "metadata": {},
   "outputs": [],
   "source": [
    "import matplotlib.pyplot as plt\n",
    "\n",
    "# enter the file path\n",
    "file_path = input(\"Enter the file path: \")\n",
    "\n",
    "# csv file into a DataFrame\n",
    "df = pd.read_csv(file_path)\n",
    "\n",
    "# Date' column to a datetime data type\n",
    "df['Date'] = pd.to_datetime(df['Date'])\n",
    "\n",
    "# Gproduct category and date and sum the sales\n",
    "df = df.groupby(['Product Category', 'Date'])['Sales'].sum().reset_index()\n",
    "\n",
    "# Pivot the data to create a table with product categories as columns and dates as rows\n",
    "df_pivot = df.pivot(index='Date', columns='Product Category', values='Sales')\n",
    "\n",
    "# Create a stacked bar chart\n",
    "ax = df_pivot.plot(kind='bar', stacked=True)\n",
    "\n",
    "# Set the axis labels and title\n",
    "ax.set_xlabel('Date')\n",
    "ax.set_ylabel('Sales')\n",
    "ax.set_title('Sales by Product Category over Time')\n",
    "\n",
    "# Display the chart\n",
    "plt.show()\n"
   ]
  },
  {
   "cell_type": "code",
   "execution_count": null,
   "id": "215cbae5-5b33-47f1-af64-1f24a78dfd36",
   "metadata": {},
   "outputs": [],
   "source": []
  },
  {
   "cell_type": "markdown",
   "id": "90361ddc-42b0-4bbb-9811-65a348c6c487",
   "metadata": {},
   "source": [
    "Q.11"
   ]
  },
  {
   "cell_type": "code",
   "execution_count": null,
   "id": "9e3882a9-b100-449f-b894-8b7faf91ef52",
   "metadata": {},
   "outputs": [],
   "source": [
    "import pandas as pd\n",
    "\n",
    "# Prompt the user to enter the file path\n",
    "file_path = input(\"Enter the file path: \")\n",
    "\n",
    "# Read the CSV file into a DataFrame\n",
    "df = pd.read_csv(file_path)\n",
    "\n",
    "# Calculate the mean, median, and mode of the test scores\n",
    "mean_score = df['Test Score'].mean()\n",
    "median_score = df['Test Score'].median()\n",
    "mode_score = df['Test Score'].mode().iloc[0]\n",
    "\n",
    "# Display the results in a table\n",
    "results = pd.DataFrame({\n",
    "    'Mean': [mean_score],\n",
    "    'Median': [median_score],\n",
    "    'Mode': [mode_score]\n",
    "})\n",
    "print(results)\n",
    "In this program, we first prompt the user to enter the file path of the CSV file containing the student data. We then read the CSV file into a DataFrame using the pd.read_csv() function.\n",
    "\n",
    "Next, we calculate the mean, median, and mode of the test scores using the mean(), median(), and mode() functions, respectively. Note that the mode() function returns a Series object, so we use the iloc[0] indexer to extract the first element of the mode.\n",
    "\n",
    "We then create a new DataFrame called results that contains the mean, median, and mode of the test scores, and display the results using the print() function."
   ]
  },
  {
   "cell_type": "code",
   "execution_count": null,
   "id": "11acecc5-db6f-4651-bbf5-f21e3529b5b2",
   "metadata": {},
   "outputs": [],
   "source": []
  },
  {
   "cell_type": "code",
   "execution_count": 11,
   "id": "daa06193-27b7-412c-893a-7d9d349b8988",
   "metadata": {},
   "outputs": [
    {
     "name": "stdin",
     "output_type": "stream",
     "text": [
      "enter file path studentdata.csv\n"
     ]
    }
   ],
   "source": [
    "path = input('enter file path')\n",
    "\n",
    "def cal(path):\n",
    "    df4 = pd.read_csv(path)\n",
    "    ms = df4['TestScore'].mean()\n",
    "    mds = df4['TestScore'].median()\n",
    "    md = df4['TestScore'].mode()\n",
    "    result = pd.DataFrame({'mean':[ms],\n",
    "                           'median':[mds],\n",
    "                           'mode':[md]})\n",
    "    return result\n",
    "\n",
    "cal(pa"
   ]
  },
  {
   "cell_type": "code",
   "execution_count": null,
   "id": "0bb125cb-28c8-4ffa-b648-0de8f91bcb65",
   "metadata": {},
   "outputs": [],
   "source": []
  },
  {
   "cell_type": "code",
   "execution_count": null,
   "id": "807c9a3c-a41b-4285-977c-96008ae8a6ed",
   "metadata": {},
   "outputs": [],
   "source": []
  },
  {
   "cell_type": "code",
   "execution_count": null,
   "id": "8c0715af-b301-4d50-bad5-1c5546104b4d",
   "metadata": {},
   "outputs": [],
   "source": []
  }
 ],
 "metadata": {
  "kernelspec": {
   "display_name": "Python 3 (ipykernel)",
   "language": "python",
   "name": "python3"
  },
  "language_info": {
   "codemirror_mode": {
    "name": "ipython",
    "version": 3
   },
   "file_extension": ".py",
   "mimetype": "text/x-python",
   "name": "python",
   "nbconvert_exporter": "python",
   "pygments_lexer": "ipython3",
   "version": "3.10.8"
  }
 },
 "nbformat": 4,
 "nbformat_minor": 5
}
