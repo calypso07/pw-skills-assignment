{
 "cells": [
  {
   "cell_type": "code",
   "execution_count": null,
   "id": "41fc9faa-d4c8-4f27-91e0-d8778f5c9fff",
   "metadata": {},
   "outputs": [],
   "source": [
    "Q.1 Password validator function"
   ]
  },
  {
   "cell_type": "code",
   "execution_count": 18,
   "id": "ae115474-2f1d-41ad-a9b3-5f9d229fca95",
   "metadata": {},
   "outputs": [],
   "source": [
    "def validate(pw):\n",
    "    lowercase=0\n",
    "    uppercase=0\n",
    "    spclchar=0\n",
    "    num=0\n",
    "    if len(pw)>10:\n",
    "        for char in pw:\n",
    "            if char.isupper():\n",
    "                uppercase+=1\n",
    "            elif char.islower():\n",
    "                lowercase+=1\n",
    "            elif char in '@#$&*':\n",
    "                spclchar+=1\n",
    "            elif char.isdigit():\n",
    "                num+=1\n",
    "        if lowercase <=1 or uppercase <=1:\n",
    "            return 'Invalid Password, use atleast two uppercase and two lowercase character'\n",
    "        elif spclchar <=2 or num <=0:\n",
    "            return 'Invalid Password, use atleast one number and three special character'\n",
    "        else:\n",
    "            return 'Password is valid'\n",
    "    else:\n",
    "        return 'Password is invalid, enter more than 10 character'"
   ]
  },
  {
   "cell_type": "code",
   "execution_count": 29,
   "id": "1269f3f8-fb09-4930-baa6-b24473ece091",
   "metadata": {},
   "outputs": [
    {
     "data": {
      "text/plain": [
       "'Password is valid'"
      ]
     },
     "execution_count": 29,
     "metadata": {},
     "output_type": "execute_result"
    }
   ],
   "source": [
    "validate('aBCDefg*&*23')"
   ]
  },
  {
   "cell_type": "code",
   "execution_count": null,
   "id": "3ed45ac6-e800-4eb9-b37f-65670c41a42e",
   "metadata": {},
   "outputs": [],
   "source": []
  },
  {
   "cell_type": "code",
   "execution_count": null,
   "id": "db2086f2-51df-4f78-9a88-571b1b07ab44",
   "metadata": {},
   "outputs": [],
   "source": []
  },
  {
   "cell_type": "markdown",
   "id": "d2bd90f1-dfad-4a4e-96d3-1405190a204d",
   "metadata": {},
   "source": [
    "Check if the string starts with a particular letter"
   ]
  },
  {
   "cell_type": "code",
   "execution_count": 33,
   "id": "c7e99249-703a-4702-9636-3d597d35b45b",
   "metadata": {},
   "outputs": [],
   "source": [
    "string = 'does this string start with d?'"
   ]
  },
  {
   "cell_type": "code",
   "execution_count": 40,
   "id": "b601902b-420d-4486-a1f3-3c12ea21bbbb",
   "metadata": {},
   "outputs": [
    {
     "data": {
      "text/plain": [
       "True"
      ]
     },
     "execution_count": 40,
     "metadata": {},
     "output_type": "execute_result"
    }
   ],
   "source": [
    "string.startswith('d')"
   ]
  },
  {
   "cell_type": "code",
   "execution_count": null,
   "id": "a3920efe-5052-4efc-863f-919d47fef122",
   "metadata": {},
   "outputs": [],
   "source": []
  },
  {
   "cell_type": "markdown",
   "id": "4c95d5c2-3f54-45ce-8c75-af173951a1de",
   "metadata": {},
   "source": [
    "Check if the string is numeric"
   ]
  },
  {
   "cell_type": "code",
   "execution_count": 30,
   "id": "b1b807b1-0339-40f1-8b75-1dd262fa35a6",
   "metadata": {},
   "outputs": [],
   "source": [
    "d = lambda k: k.isnumeric()"
   ]
  },
  {
   "cell_type": "code",
   "execution_count": 41,
   "id": "4b4bba1f-1807-43bf-bf87-ed3455fdd22e",
   "metadata": {},
   "outputs": [
    {
     "data": {
      "text/plain": [
       "True"
      ]
     },
     "execution_count": 41,
     "metadata": {},
     "output_type": "execute_result"
    }
   ],
   "source": [
    "d('3434')"
   ]
  },
  {
   "cell_type": "code",
   "execution_count": 42,
   "id": "c094631d-15fd-4ce5-94af-56789fafd402",
   "metadata": {},
   "outputs": [
    {
     "data": {
      "text/plain": [
       "False"
      ]
     },
     "execution_count": 42,
     "metadata": {},
     "output_type": "execute_result"
    }
   ],
   "source": [
    "a('fdkf34')"
   ]
  },
  {
   "cell_type": "code",
   "execution_count": null,
   "id": "69212500-289b-4d3f-9b4d-4caf8712f5a4",
   "metadata": {},
   "outputs": [],
   "source": []
  },
  {
   "cell_type": "markdown",
   "id": "19128426-8e5b-45c9-bae9-c331d239e782",
   "metadata": {},
   "source": [
    "Sort a list of tuples"
   ]
  },
  {
   "cell_type": "code",
   "execution_count": 11,
   "id": "dfbd7931-463a-40b9-a1e4-6a286819a19a",
   "metadata": {},
   "outputs": [],
   "source": [
    "lst_tpl=[(\"mango\",99),(\"orange\",80), (\"grapes\", 1000)]"
   ]
  },
  {
   "cell_type": "code",
   "execution_count": 18,
   "id": "e8ab9018-69c5-47bd-a423-a325c5b0e7a1",
   "metadata": {},
   "outputs": [],
   "source": [
    "lst_tpl.sort(key = lambda x: x[1])"
   ]
  },
  {
   "cell_type": "code",
   "execution_count": 43,
   "id": "315f258c-dbf0-4f55-896f-1dcce853a0d7",
   "metadata": {},
   "outputs": [
    {
     "data": {
      "text/plain": [
       "[('orange', 80), ('mango', 99), ('grapes', 1000)]"
      ]
     },
     "execution_count": 43,
     "metadata": {},
     "output_type": "execute_result"
    }
   ],
   "source": [
    "lst_tpl"
   ]
  },
  {
   "cell_type": "code",
   "execution_count": null,
   "id": "02251578-273b-454a-8448-921df111d4e9",
   "metadata": {},
   "outputs": [],
   "source": []
  },
  {
   "cell_type": "markdown",
   "id": "591759fe-9814-481c-b0d0-cf6951e9abc2",
   "metadata": {},
   "source": [
    "Find the squares of numbers from 1 to 10"
   ]
  },
  {
   "cell_type": "code",
   "execution_count": 44,
   "id": "c8073a79-38a2-42f2-a7de-77b57ef4df1d",
   "metadata": {},
   "outputs": [
    {
     "data": {
      "text/plain": [
       "[1, 4, 9, 16, 25, 36, 49, 64, 81, 100]"
      ]
     },
     "execution_count": 44,
     "metadata": {},
     "output_type": "execute_result"
    }
   ],
   "source": [
    "[i**2 for i in range(1,11)]"
   ]
  },
  {
   "cell_type": "code",
   "execution_count": null,
   "id": "d1c3fab9-4bcf-4825-bcff-c8459b5223ef",
   "metadata": {},
   "outputs": [],
   "source": []
  },
  {
   "cell_type": "markdown",
   "id": "e58dc4d6-534d-499a-9ff4-1c21eab7756b",
   "metadata": {},
   "source": [
    "Find the cube root of numbers from 1 to 10"
   ]
  },
  {
   "cell_type": "code",
   "execution_count": 45,
   "id": "d9cb79aa-3df8-4480-9a4e-8f8a753d042a",
   "metadata": {},
   "outputs": [],
   "source": [
    "lst_a=[1,2,3,4,5,6,7,8,9]"
   ]
  },
  {
   "cell_type": "code",
   "execution_count": 46,
   "id": "a8c258d2-0da9-4560-8f4a-963196432c37",
   "metadata": {},
   "outputs": [
    {
     "name": "stdout",
     "output_type": "stream",
     "text": [
      "[1, 8, 27, 64, 125, 216, 343, 512, 729]\n"
     ]
    }
   ],
   "source": [
    "lst_cube= list(map(lambda x: x**3, lst_a))\n",
    "print(lst_cube)"
   ]
  },
  {
   "cell_type": "code",
   "execution_count": null,
   "id": "d5ec279a-96dd-46c4-a319-3a653e15e8c1",
   "metadata": {},
   "outputs": [],
   "source": []
  },
  {
   "cell_type": "code",
   "execution_count": null,
   "id": "82272362-f79a-4e1f-8fa8-c452c34364dc",
   "metadata": {},
   "outputs": [],
   "source": []
  },
  {
   "cell_type": "markdown",
   "id": "f5f348fd-6fbb-49bc-9039-64331e24aafb",
   "metadata": {},
   "source": [
    "Check if a given number is Even"
   ]
  },
  {
   "cell_type": "code",
   "execution_count": 47,
   "id": "ee98b3f1-7f48-49b0-aecb-46e2c220c7c3",
   "metadata": {},
   "outputs": [],
   "source": [
    "x = lambda a: a%2==0"
   ]
  },
  {
   "cell_type": "code",
   "execution_count": 39,
   "id": "2e7a7872-4d71-49e3-a34a-1bf99ae078e9",
   "metadata": {},
   "outputs": [
    {
     "data": {
      "text/plain": [
       "True"
      ]
     },
     "execution_count": 39,
     "metadata": {},
     "output_type": "execute_result"
    }
   ],
   "source": [
    "x(38)"
   ]
  },
  {
   "cell_type": "code",
   "execution_count": null,
   "id": "fce53eda-4786-4fd0-8463-b57c1692044f",
   "metadata": {},
   "outputs": [],
   "source": []
  },
  {
   "cell_type": "markdown",
   "id": "865d1134-144d-47d0-a4fd-2b83c40f2c2d",
   "metadata": {},
   "source": [
    "Filter odd numbers from the given list."
   ]
  },
  {
   "cell_type": "code",
   "execution_count": 50,
   "id": "f0bc0624-98ae-4fe4-aa63-ff7eb1beb4c8",
   "metadata": {},
   "outputs": [],
   "source": [
    "nums=[1,2,3,4,5,6,7,8,9,10]"
   ]
  },
  {
   "cell_type": "code",
   "execution_count": 52,
   "id": "c12d9108-4f0f-4fa2-822b-a59844fd3fc9",
   "metadata": {},
   "outputs": [
    {
     "data": {
      "text/plain": [
       "[1, 3, 5, 7, 9]"
      ]
     },
     "execution_count": 52,
     "metadata": {},
     "output_type": "execute_result"
    }
   ],
   "source": [
    "[i for i in nums if i%2!=0]"
   ]
  },
  {
   "cell_type": "code",
   "execution_count": null,
   "id": "b2059ef0-692f-4019-a1a5-2bc31f5d006a",
   "metadata": {},
   "outputs": [],
   "source": []
  },
  {
   "cell_type": "markdown",
   "id": "a7fb6f08-6851-4fb8-b04b-a895a96e9ebe",
   "metadata": {},
   "source": [
    "Sort a list of integers into positive and negative integers lists."
   ]
  },
  {
   "cell_type": "code",
   "execution_count": 53,
   "id": "64a4e435-f26d-40c3-8ae3-79b58d8f71d1",
   "metadata": {},
   "outputs": [],
   "source": [
    "nums2=[1,2,3,4,5,6,-1,-2,-3,-4,-5,0]"
   ]
  },
  {
   "cell_type": "code",
   "execution_count": 54,
   "id": "ec519a3e-8138-46b1-b83c-66fa33d30ff8",
   "metadata": {},
   "outputs": [
    {
     "name": "stdout",
     "output_type": "stream",
     "text": [
      "[1, 2, 3, 4, 5, 6] [-1, -2, -3, -4, -5]\n"
     ]
    }
   ],
   "source": [
    "pos=list(filter(lambda x: x>0, nums2))\n",
    "neg=list(filter(lambda x: x<0, nums2))\n",
    "print(pos, neg)"
   ]
  }
 ],
 "metadata": {
  "kernelspec": {
   "display_name": "Python 3 (ipykernel)",
   "language": "python",
   "name": "python3"
  },
  "language_info": {
   "codemirror_mode": {
    "name": "ipython",
    "version": 3
   },
   "file_extension": ".py",
   "mimetype": "text/x-python",
   "name": "python",
   "nbconvert_exporter": "python",
   "pygments_lexer": "ipython3",
   "version": "3.10.8"
  }
 },
 "nbformat": 4,
 "nbformat_minor": 5
}
