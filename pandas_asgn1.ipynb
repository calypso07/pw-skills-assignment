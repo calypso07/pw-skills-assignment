{
 "cells": [
  {
   "cell_type": "code",
   "execution_count": 1,
   "id": "232c5451-b62e-45c9-8944-0d1a061f019b",
   "metadata": {},
   "outputs": [],
   "source": [
    "import pandas as pd"
   ]
  },
  {
   "cell_type": "markdown",
   "id": "466f6eab-f688-4bd0-97d7-f11459423994",
   "metadata": {},
   "source": [
    "Q.1"
   ]
  },
  {
   "cell_type": "code",
   "execution_count": 2,
   "id": "6f2c9f7c-32e0-40f6-84d2-ef7684d948af",
   "metadata": {},
   "outputs": [],
   "source": [
    "ps = pd.Series([4,8,15,16,23,42])"
   ]
  },
  {
   "cell_type": "code",
   "execution_count": 4,
   "id": "9063e3e9-dea5-4166-a493-a65529f59ef4",
   "metadata": {},
   "outputs": [
    {
     "name": "stdout",
     "output_type": "stream",
     "text": [
      "0     4\n",
      "1     8\n",
      "2    15\n",
      "3    16\n",
      "4    23\n",
      "5    42\n",
      "dtype: int64\n"
     ]
    }
   ],
   "source": [
    "print(ps)"
   ]
  },
  {
   "cell_type": "code",
   "execution_count": null,
   "id": "fabc7dbd-5e03-42a8-aba7-8d889b5380c3",
   "metadata": {},
   "outputs": [],
   "source": []
  },
  {
   "cell_type": "markdown",
   "id": "cc44c38d-f639-43fb-9c4c-99e24f24d81c",
   "metadata": {},
   "source": [
    "Q.2"
   ]
  },
  {
   "cell_type": "code",
   "execution_count": 7,
   "id": "527c7f81-a817-4364-b4dd-22898539098b",
   "metadata": {},
   "outputs": [],
   "source": [
    "lst = ['srk', 'sr', 'kk', 34,53, 'num', 'char', 'var', 'int','object']"
   ]
  },
  {
   "cell_type": "code",
   "execution_count": 8,
   "id": "6fdd0787-f557-4ac7-80ca-eeff64451556",
   "metadata": {},
   "outputs": [],
   "source": [
    "s = pd.Series(lst)"
   ]
  },
  {
   "cell_type": "code",
   "execution_count": 10,
   "id": "b05563e3-764e-43c7-89e7-7843655a4254",
   "metadata": {},
   "outputs": [
    {
     "name": "stdout",
     "output_type": "stream",
     "text": [
      "0       srk\n",
      "1        sr\n",
      "2        kk\n",
      "3        34\n",
      "4        53\n",
      "5       num\n",
      "6      char\n",
      "7       var\n",
      "8       int\n",
      "9    object\n",
      "dtype: object\n"
     ]
    }
   ],
   "source": [
    "print(s)"
   ]
  },
  {
   "cell_type": "code",
   "execution_count": null,
   "id": "0e1fe2f9-4322-430a-bb17-052fe9777412",
   "metadata": {},
   "outputs": [],
   "source": []
  },
  {
   "cell_type": "markdown",
   "id": "4bc46a28-25cf-4bf5-9658-2ace0762803d",
   "metadata": {},
   "source": [
    "Q.3"
   ]
  },
  {
   "cell_type": "code",
   "execution_count": 16,
   "id": "9b259877-f494-48f9-b3e9-b9776101c17c",
   "metadata": {},
   "outputs": [],
   "source": [
    "df = pd.DataFrame({'Name': ['Alice', 'Bob','Claire'],\n",
    "                   'Age':[25,30,27],\n",
    "                   'Gender':['Female','Male','Female']})"
   ]
  },
  {
   "cell_type": "code",
   "execution_count": 17,
   "id": "ea822f5f-fbfd-4f7f-bd15-8e6422a218b5",
   "metadata": {},
   "outputs": [
    {
     "data": {
      "text/html": [
       "<div>\n",
       "<style scoped>\n",
       "    .dataframe tbody tr th:only-of-type {\n",
       "        vertical-align: middle;\n",
       "    }\n",
       "\n",
       "    .dataframe tbody tr th {\n",
       "        vertical-align: top;\n",
       "    }\n",
       "\n",
       "    .dataframe thead th {\n",
       "        text-align: right;\n",
       "    }\n",
       "</style>\n",
       "<table border=\"1\" class=\"dataframe\">\n",
       "  <thead>\n",
       "    <tr style=\"text-align: right;\">\n",
       "      <th></th>\n",
       "      <th>Name</th>\n",
       "      <th>Age</th>\n",
       "      <th>Gender</th>\n",
       "    </tr>\n",
       "  </thead>\n",
       "  <tbody>\n",
       "    <tr>\n",
       "      <th>0</th>\n",
       "      <td>Alice</td>\n",
       "      <td>25</td>\n",
       "      <td>Female</td>\n",
       "    </tr>\n",
       "    <tr>\n",
       "      <th>1</th>\n",
       "      <td>Bob</td>\n",
       "      <td>30</td>\n",
       "      <td>Male</td>\n",
       "    </tr>\n",
       "    <tr>\n",
       "      <th>2</th>\n",
       "      <td>Claire</td>\n",
       "      <td>27</td>\n",
       "      <td>Female</td>\n",
       "    </tr>\n",
       "  </tbody>\n",
       "</table>\n",
       "</div>"
      ],
      "text/plain": [
       "     Name  Age  Gender\n",
       "0   Alice   25  Female\n",
       "1     Bob   30    Male\n",
       "2  Claire   27  Female"
      ]
     },
     "execution_count": 17,
     "metadata": {},
     "output_type": "execute_result"
    }
   ],
   "source": [
    "df"
   ]
  },
  {
   "cell_type": "code",
   "execution_count": null,
   "id": "00a79f32-9152-463b-9eaf-07cd3dd694a8",
   "metadata": {},
   "outputs": [],
   "source": []
  },
  {
   "cell_type": "code",
   "execution_count": null,
   "id": "81c255f4-910c-4201-ab42-869508dbd3d4",
   "metadata": {},
   "outputs": [],
   "source": []
  },
  {
   "cell_type": "markdown",
   "id": "d760a573-7579-45fc-8f1c-9e971d1bc914",
   "metadata": {},
   "source": [
    "Q.4"
   ]
  },
  {
   "cell_type": "markdown",
   "id": "d669576b-15d4-40d1-afd8-cb38ead3788f",
   "metadata": {},
   "source": [
    "A pandas DataFrame is a two-dimensional data structure that can be thought of as a spreadsheet. It can also be thought of as a collection of two or more series with common indices.\n",
    "\n",
    "A pandas series is a one-dimensional data structure that comprises of key-value pair, where keys/labels are the indices and values are the values stored on that index. It is similar to a python dictionary, except it provides more freedom to manipulate and edit the data."
   ]
  },
  {
   "cell_type": "code",
   "execution_count": 34,
   "id": "1fec60d3-8ee4-406e-84ab-a7a619da0f14",
   "metadata": {},
   "outputs": [
    {
     "data": {
      "text/plain": [
       "pandas.core.frame.DataFrame"
      ]
     },
     "execution_count": 34,
     "metadata": {},
     "output_type": "execute_result"
    }
   ],
   "source": [
    "type(df) #dataframe"
   ]
  },
  {
   "cell_type": "code",
   "execution_count": 36,
   "id": "a5222c7b-b908-458f-b5ac-f741e710968f",
   "metadata": {},
   "outputs": [
    {
     "data": {
      "text/html": [
       "<div>\n",
       "<style scoped>\n",
       "    .dataframe tbody tr th:only-of-type {\n",
       "        vertical-align: middle;\n",
       "    }\n",
       "\n",
       "    .dataframe tbody tr th {\n",
       "        vertical-align: top;\n",
       "    }\n",
       "\n",
       "    .dataframe thead th {\n",
       "        text-align: right;\n",
       "    }\n",
       "</style>\n",
       "<table border=\"1\" class=\"dataframe\">\n",
       "  <thead>\n",
       "    <tr style=\"text-align: right;\">\n",
       "      <th></th>\n",
       "      <th>Name</th>\n",
       "      <th>Age</th>\n",
       "      <th>Gender</th>\n",
       "    </tr>\n",
       "  </thead>\n",
       "  <tbody>\n",
       "    <tr>\n",
       "      <th>0</th>\n",
       "      <td>Alice</td>\n",
       "      <td>25</td>\n",
       "      <td>Female</td>\n",
       "    </tr>\n",
       "    <tr>\n",
       "      <th>1</th>\n",
       "      <td>Bob</td>\n",
       "      <td>30</td>\n",
       "      <td>Male</td>\n",
       "    </tr>\n",
       "    <tr>\n",
       "      <th>2</th>\n",
       "      <td>Claire</td>\n",
       "      <td>27</td>\n",
       "      <td>Female</td>\n",
       "    </tr>\n",
       "  </tbody>\n",
       "</table>\n",
       "</div>"
      ],
      "text/plain": [
       "     Name  Age  Gender\n",
       "0   Alice   25  Female\n",
       "1     Bob   30    Male\n",
       "2  Claire   27  Female"
      ]
     },
     "execution_count": 36,
     "metadata": {},
     "output_type": "execute_result"
    }
   ],
   "source": [
    "df\n"
   ]
  },
  {
   "cell_type": "code",
   "execution_count": 37,
   "id": "a2ce0a02-9b92-4807-858f-cd75eaf2138d",
   "metadata": {},
   "outputs": [],
   "source": [
    "srs = df['Name']"
   ]
  },
  {
   "cell_type": "code",
   "execution_count": 38,
   "id": "425c9512-2ddf-48a3-b36b-b7ed37da1b60",
   "metadata": {},
   "outputs": [
    {
     "data": {
      "text/plain": [
       "0     Alice\n",
       "1       Bob\n",
       "2    Claire\n",
       "Name: Name, dtype: object"
      ]
     },
     "execution_count": 38,
     "metadata": {},
     "output_type": "execute_result"
    }
   ],
   "source": [
    "srs"
   ]
  },
  {
   "cell_type": "code",
   "execution_count": 35,
   "id": "78a6a125-37a1-4114-8f8e-ef684d242ccb",
   "metadata": {},
   "outputs": [
    {
     "data": {
      "text/plain": [
       "pandas.core.series.Series"
      ]
     },
     "execution_count": 35,
     "metadata": {},
     "output_type": "execute_result"
    }
   ],
   "source": [
    "type(srs)"
   ]
  },
  {
   "cell_type": "code",
   "execution_count": null,
   "id": "4a18f8e8-2b08-45d8-ad49-3fa7e7ec2d10",
   "metadata": {},
   "outputs": [],
   "source": []
  },
  {
   "cell_type": "markdown",
   "id": "f9772e85-a311-45fc-8969-cb171f23b4db",
   "metadata": {},
   "source": [
    "Q.5"
   ]
  },
  {
   "cell_type": "markdown",
   "id": "d97cb70c-b224-4ce2-bc81-21261f99ce16",
   "metadata": {},
   "source": [
    "There are many usefull functions in pandas such as\n",
    "head()\n",
    "tail()\n",
    "read_csv()\n",
    "fillna\n",
    "dropna\n",
    "describe\n",
    "value_counts\n"
   ]
  },
  {
   "cell_type": "code",
   "execution_count": 39,
   "id": "feddbcbb-9f97-4a7f-8f06-48575d8d1995",
   "metadata": {},
   "outputs": [
    {
     "data": {
      "text/html": [
       "<div>\n",
       "<style scoped>\n",
       "    .dataframe tbody tr th:only-of-type {\n",
       "        vertical-align: middle;\n",
       "    }\n",
       "\n",
       "    .dataframe tbody tr th {\n",
       "        vertical-align: top;\n",
       "    }\n",
       "\n",
       "    .dataframe thead th {\n",
       "        text-align: right;\n",
       "    }\n",
       "</style>\n",
       "<table border=\"1\" class=\"dataframe\">\n",
       "  <thead>\n",
       "    <tr style=\"text-align: right;\">\n",
       "      <th></th>\n",
       "      <th>Name</th>\n",
       "      <th>Age</th>\n",
       "      <th>Gender</th>\n",
       "    </tr>\n",
       "  </thead>\n",
       "  <tbody>\n",
       "    <tr>\n",
       "      <th>0</th>\n",
       "      <td>Alice</td>\n",
       "      <td>25</td>\n",
       "      <td>Female</td>\n",
       "    </tr>\n",
       "    <tr>\n",
       "      <th>1</th>\n",
       "      <td>Bob</td>\n",
       "      <td>30</td>\n",
       "      <td>Male</td>\n",
       "    </tr>\n",
       "  </tbody>\n",
       "</table>\n",
       "</div>"
      ],
      "text/plain": [
       "    Name  Age  Gender\n",
       "0  Alice   25  Female\n",
       "1    Bob   30    Male"
      ]
     },
     "execution_count": 39,
     "metadata": {},
     "output_type": "execute_result"
    }
   ],
   "source": [
    "df.head(2)"
   ]
  },
  {
   "cell_type": "code",
   "execution_count": 40,
   "id": "30c3525c-5385-4d0f-8b65-f056480dae85",
   "metadata": {},
   "outputs": [
    {
     "data": {
      "text/plain": [
       "Index(['Name', 'Age', 'Gender'], dtype='object')"
      ]
     },
     "execution_count": 40,
     "metadata": {},
     "output_type": "execute_result"
    }
   ],
   "source": [
    "df.columns"
   ]
  },
  {
   "cell_type": "code",
   "execution_count": 41,
   "id": "2dded33c-9bb0-4174-8db9-0e261ae9f0c9",
   "metadata": {},
   "outputs": [
    {
     "data": {
      "text/plain": [
       "3"
      ]
     },
     "execution_count": 41,
     "metadata": {},
     "output_type": "execute_result"
    }
   ],
   "source": [
    "len(df)"
   ]
  },
  {
   "cell_type": "code",
   "execution_count": 43,
   "id": "2b47baec-e9ea-4e45-9ac4-4a75c51edef2",
   "metadata": {},
   "outputs": [
    {
     "data": {
      "text/html": [
       "<div>\n",
       "<style scoped>\n",
       "    .dataframe tbody tr th:only-of-type {\n",
       "        vertical-align: middle;\n",
       "    }\n",
       "\n",
       "    .dataframe tbody tr th {\n",
       "        vertical-align: top;\n",
       "    }\n",
       "\n",
       "    .dataframe thead th {\n",
       "        text-align: right;\n",
       "    }\n",
       "</style>\n",
       "<table border=\"1\" class=\"dataframe\">\n",
       "  <thead>\n",
       "    <tr style=\"text-align: right;\">\n",
       "      <th></th>\n",
       "      <th>Name</th>\n",
       "      <th>Age</th>\n",
       "    </tr>\n",
       "  </thead>\n",
       "  <tbody>\n",
       "    <tr>\n",
       "      <th>0</th>\n",
       "      <td>Alice</td>\n",
       "      <td>25</td>\n",
       "    </tr>\n",
       "    <tr>\n",
       "      <th>1</th>\n",
       "      <td>Bob</td>\n",
       "      <td>30</td>\n",
       "    </tr>\n",
       "    <tr>\n",
       "      <th>2</th>\n",
       "      <td>Claire</td>\n",
       "      <td>27</td>\n",
       "    </tr>\n",
       "  </tbody>\n",
       "</table>\n",
       "</div>"
      ],
      "text/plain": [
       "     Name  Age\n",
       "0   Alice   25\n",
       "1     Bob   30\n",
       "2  Claire   27"
      ]
     },
     "execution_count": 43,
     "metadata": {},
     "output_type": "execute_result"
    }
   ],
   "source": [
    "df.drop('Gender', axis=1)"
   ]
  },
  {
   "cell_type": "code",
   "execution_count": null,
   "id": "507692f4-c868-4433-9122-876729226b0f",
   "metadata": {},
   "outputs": [],
   "source": []
  },
  {
   "cell_type": "markdown",
   "id": "93828f60-4792-4fa2-bfe4-f0db34aacf32",
   "metadata": {},
   "source": [
    "Q.6"
   ]
  },
  {
   "cell_type": "markdown",
   "id": "70f801a4-2566-41a5-b11d-3932e125b72e",
   "metadata": {},
   "source": [
    "In pandas library, both Series and DataFrame objects are mutable in nature. This means that you can modify the values of a Series or a DataFrame after it has been created.\n",
    "\n",
    "For example, you can change the value of an element in a Series or a DataFrame by using the indexing operator and assigning a new value to it. You can also add or remove elements from a DataFrame using methods such as append() or drop().\n",
    "\n",
    "Panel object is considered to be an immutable object. This means that you cannot modify the values of a Panel object once it has been created."
   ]
  },
  {
   "cell_type": "code",
   "execution_count": null,
   "id": "5d57ccbd-c175-43ad-b43f-8ca99f9696de",
   "metadata": {},
   "outputs": [],
   "source": []
  },
  {
   "cell_type": "code",
   "execution_count": null,
   "id": "53b99b35-b031-4759-a88f-80195cbf7540",
   "metadata": {},
   "outputs": [],
   "source": []
  },
  {
   "cell_type": "markdown",
   "id": "27575af2-2be9-4dd2-b609-209f2745ae55",
   "metadata": {},
   "source": [
    "Q.5"
   ]
  },
  {
   "cell_type": "code",
   "execution_count": 73,
   "id": "c697b895-5470-4eb3-afce-f4682126e021",
   "metadata": {},
   "outputs": [],
   "source": [
    "s1 = pd.Series(['shimla', 'Chandigarh', 'delhi'])"
   ]
  },
  {
   "cell_type": "code",
   "execution_count": 74,
   "id": "1d33379a-3a57-457f-a4dc-45c85855218c",
   "metadata": {},
   "outputs": [],
   "source": [
    "s2 = pd.Series([3, 2, 1])"
   ]
  },
  {
   "cell_type": "code",
   "execution_count": 75,
   "id": "e96a0020-1744-4337-8e05-d71bbdcaf229",
   "metadata": {},
   "outputs": [],
   "source": [
    "s3 = pd.Series([9, 8,9])"
   ]
  },
  {
   "cell_type": "code",
   "execution_count": 78,
   "id": "97f3cead-3b9c-490d-91fe-135fb6a7be86",
   "metadata": {},
   "outputs": [],
   "source": [
    "df1 = pd.DataFrame([s1,s2,s3], index=['city', 'tier', 'rating'])"
   ]
  },
  {
   "cell_type": "code",
   "execution_count": 80,
   "id": "4a60fea2-0021-49f7-b403-71a921664049",
   "metadata": {},
   "outputs": [
    {
     "data": {
      "text/html": [
       "<div>\n",
       "<style scoped>\n",
       "    .dataframe tbody tr th:only-of-type {\n",
       "        vertical-align: middle;\n",
       "    }\n",
       "\n",
       "    .dataframe tbody tr th {\n",
       "        vertical-align: top;\n",
       "    }\n",
       "\n",
       "    .dataframe thead th {\n",
       "        text-align: right;\n",
       "    }\n",
       "</style>\n",
       "<table border=\"1\" class=\"dataframe\">\n",
       "  <thead>\n",
       "    <tr style=\"text-align: right;\">\n",
       "      <th></th>\n",
       "      <th>city</th>\n",
       "      <th>tier</th>\n",
       "      <th>rating</th>\n",
       "    </tr>\n",
       "  </thead>\n",
       "  <tbody>\n",
       "    <tr>\n",
       "      <th>0</th>\n",
       "      <td>shimla</td>\n",
       "      <td>3</td>\n",
       "      <td>9</td>\n",
       "    </tr>\n",
       "    <tr>\n",
       "      <th>1</th>\n",
       "      <td>Chandigarh</td>\n",
       "      <td>2</td>\n",
       "      <td>8</td>\n",
       "    </tr>\n",
       "    <tr>\n",
       "      <th>2</th>\n",
       "      <td>delhi</td>\n",
       "      <td>1</td>\n",
       "      <td>9</td>\n",
       "    </tr>\n",
       "  </tbody>\n",
       "</table>\n",
       "</div>"
      ],
      "text/plain": [
       "         city tier rating\n",
       "0      shimla    3      9\n",
       "1  Chandigarh    2      8\n",
       "2       delhi    1      9"
      ]
     },
     "execution_count": 80,
     "metadata": {},
     "output_type": "execute_result"
    }
   ],
   "source": [
    "df1.T"
   ]
  },
  {
   "cell_type": "code",
   "execution_count": null,
   "id": "eb82df20-efff-4195-96e5-69334a99669f",
   "metadata": {},
   "outputs": [],
   "source": []
  },
  {
   "cell_type": "code",
   "execution_count": null,
   "id": "a593563a-d1f7-4821-9a00-62310f877193",
   "metadata": {},
   "outputs": [],
   "source": []
  }
 ],
 "metadata": {
  "kernelspec": {
   "display_name": "Python 3 (ipykernel)",
   "language": "python",
   "name": "python3"
  },
  "language_info": {
   "codemirror_mode": {
    "name": "ipython",
    "version": 3
   },
   "file_extension": ".py",
   "mimetype": "text/x-python",
   "name": "python",
   "nbconvert_exporter": "python",
   "pygments_lexer": "ipython3",
   "version": "3.10.8"
  }
 },
 "nbformat": 4,
 "nbformat_minor": 5
}
