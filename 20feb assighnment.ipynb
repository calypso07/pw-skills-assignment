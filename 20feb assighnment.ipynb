{
 "cells": [
  {
   "cell_type": "markdown",
   "id": "f05dba08-9fff-4386-8b06-2b133f06ee1c",
   "metadata": {},
   "source": [
    "##Q.1"
   ]
  },
  {
   "cell_type": "markdown",
   "id": "120b96d4-adeb-444a-ada1-4f0c39240d84",
   "metadata": {},
   "source": [
    "GET: The GET method requests data from a specified resource. The GET method is used to retrieve data from a server by appending parameters to the end of the URL. For example, when a user enters a URL into a web browser, the browser sends a GET request to the web server.\n",
    "\n",
    "POST: The POST method is used to send data to a web server for processing. It is typically used when a user submits a form, such as a sign-up form or a search query. The data is sent in the message body of the HTTP request rather than in the URL. The POST method is more secure than the GET method because the data is not visible in the URL."
   ]
  },
  {
   "cell_type": "code",
   "execution_count": null,
   "id": "a00a646a-2fcf-47e0-b76a-0b459cd73c8f",
   "metadata": {},
   "outputs": [],
   "source": []
  },
  {
   "cell_type": "markdown",
   "id": "73239aff-be97-4f1f-8dd9-4a49a46ba828",
   "metadata": {},
   "source": [
    "##Q.2"
   ]
  },
  {
   "cell_type": "markdown",
   "id": "a72eded2-6a92-4998-b233-bfaf550ba817",
   "metadata": {},
   "source": [
    "Request is used in Flask to access information submitted with an HTTP request. It provides access to form data, files, cookies and headers. Request also provides access to other metadata associated with the request, such as the IP address and the URL used to make the request. Request can also be used to access information from the environment, such as the web server, and for debugging purposes."
   ]
  },
  {
   "cell_type": "code",
   "execution_count": null,
   "id": "1cc1850e-a451-493f-ac17-88ac357964e3",
   "metadata": {},
   "outputs": [],
   "source": []
  },
  {
   "cell_type": "markdown",
   "id": "65c34cd3-58bf-4ff0-a8b5-cd358997c8a4",
   "metadata": {},
   "source": [
    "##Q.3"
   ]
  },
  {
   "cell_type": "markdown",
   "id": "d8b35fdc-609a-451f-b9aa-d540ce9e7e09",
   "metadata": {},
   "source": [
    "Redirect() is used in Flask to redirect the user to a different URL. This is often used when a user has submitted a form, and they need to be taken to a different page to view their results, or when the user needs to be taken to a login page if they are not logged in."
   ]
  },
  {
   "cell_type": "code",
   "execution_count": null,
   "id": "de5fb91e-83f7-4c66-ac71-ac8d89da8ef9",
   "metadata": {},
   "outputs": [],
   "source": []
  },
  {
   "cell_type": "markdown",
   "id": "518bdf0f-666c-4889-9f7a-bed7175b0131",
   "metadata": {},
   "source": [
    "##Q.4"
   ]
  },
  {
   "cell_type": "markdown",
   "id": "054f9363-b130-4239-9a42-6288e4f2d509",
   "metadata": {},
   "source": [
    "Templates in Flask are HTML files used to render the data that is sent to the client browser. The render_template() function is used to render the HTML templates and allow the user to view the rendered output. This function takes in the template file path as an argument and returns a rendered HTML template. The template can then be displayed to the user in the browser."
   ]
  },
  {
   "cell_type": "code",
   "execution_count": null,
   "id": "a464c144-d51c-4d08-8c68-17962f8cd41d",
   "metadata": {},
   "outputs": [],
   "source": []
  },
  {
   "cell_type": "markdown",
   "id": "7273f82b-fab8-446a-87be-1922634a1687",
   "metadata": {},
   "source": [
    "##Q.5"
   ]
  },
  {
   "cell_type": "code",
   "execution_count": null,
   "id": "5c023cca-aba1-4bda-9995-3c8afdc33fcc",
   "metadata": {},
   "outputs": [],
   "source": []
  },
  {
   "cell_type": "code",
   "execution_count": null,
   "id": "812c7351-d7c6-4bd1-9395-2bc20e38b152",
   "metadata": {},
   "outputs": [],
   "source": []
  },
  {
   "cell_type": "code",
   "execution_count": null,
   "id": "d3ac09de-a383-4020-b3aa-b50faef9dcc4",
   "metadata": {},
   "outputs": [],
   "source": []
  }
 ],
 "metadata": {
  "kernelspec": {
   "display_name": "Python 3 (ipykernel)",
   "language": "python",
   "name": "python3"
  },
  "language_info": {
   "codemirror_mode": {
    "name": "ipython",
    "version": 3
   },
   "file_extension": ".py",
   "mimetype": "text/x-python",
   "name": "python",
   "nbconvert_exporter": "python",
   "pygments_lexer": "ipython3",
   "version": "3.10.8"
  }
 },
 "nbformat": 4,
 "nbformat_minor": 5
}
