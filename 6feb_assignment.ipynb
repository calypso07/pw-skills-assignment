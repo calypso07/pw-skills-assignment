{
 "cells": [
  {
   "cell_type": "code",
   "execution_count": null,
   "id": "6e7cef94-b95e-49b5-8da1-f835b3b6fbd3",
   "metadata": {},
   "outputs": [],
   "source": [
    "Q.1"
   ]
  },
  {
   "cell_type": "code",
   "execution_count": 12,
   "id": "98aa77e4-205b-4ec0-9d2a-6291a8365d75",
   "metadata": {},
   "outputs": [],
   "source": [
    "list1 = [1,2,3,4, [44,55,66, True], False, (34,56,78,89,34), {1,2,3,3,2,1}, {1:34, \"key2\": [55, 67, 78, 89], 4: (45,\n",
    "22, 61, 34)}, [56, 'data science'], 'Machine Learning']"
   ]
  },
  {
   "cell_type": "code",
   "execution_count": 134,
   "id": "8965cf6e-0f5f-44b0-853c-d023c906192d",
   "metadata": {},
   "outputs": [],
   "source": [
    "list1\n",
    "\n",
    "def newlist():\n",
    "    flat_list=[]\n",
    "    for i in list1:\n",
    "        if type(i) == list:\n",
    "            for k in i:\n",
    "                flat_list.append(k)\n",
    "        elif type(i) == tuple:\n",
    "            for k in i:\n",
    "                flat_list.append(k)\n",
    "        elif type(i) == dict:\n",
    "            for k in i.keys():\n",
    "                flat_list.append(k)\n",
    "            for k in i.values():\n",
    "                if type(k)== int:\n",
    "                    flat_list.append(k)\n",
    "                if type(k)== list or type(k)== tuple:\n",
    "                    for z in k:\n",
    "                        flat_list.append(z)\n",
    "        elif type(i) == set:\n",
    "            for k in i:\n",
    "                flat_list.append(k)\n",
    "        else:\n",
    "            flat_list.append(i)\n",
    "    print('FLAT LIST   ', flat_list)\n",
    "    x=1\n",
    "    for i in flat_list:\n",
    "        if type(i)==int:\n",
    "            x=i*x\n",
    "    return x, 'product of numbers in flatned list'"
   ]
  },
  {
   "cell_type": "code",
   "execution_count": 135,
   "id": "9707e310-3fd6-4569-ace7-fc2779455d80",
   "metadata": {},
   "outputs": [
    {
     "name": "stdout",
     "output_type": "stream",
     "text": [
      "FLAT LIST    [1, 2, 3, 4, 44, 55, 66, True, False, 34, 56, 78, 89, 34, 1, 2, 3, 1, 'key2', 4, 34, 55, 67, 78, 89, 45, 22, 61, 34, 56, 'data science', 'Machine Learning']\n"
     ]
    },
    {
     "data": {
      "text/plain": [
       "(4134711838987085478833841242112000, 'product of numbers in flatned list')"
      ]
     },
     "execution_count": 135,
     "metadata": {},
     "output_type": "execute_result"
    }
   ],
   "source": [
    "newlist()"
   ]
  },
  {
   "cell_type": "code",
   "execution_count": null,
   "id": "4c6d20a5-6775-43f5-816d-38070567cf6e",
   "metadata": {},
   "outputs": [],
   "source": []
  },
  {
   "cell_type": "code",
   "execution_count": null,
   "id": "f00010e4-c40d-4ef2-bd7f-856a3b315be5",
   "metadata": {},
   "outputs": [],
   "source": []
  },
  {
   "cell_type": "code",
   "execution_count": 142,
   "id": "1e77e64b-d4d2-4cea-bc7c-d677c76c2e33",
   "metadata": {},
   "outputs": [
    {
     "ename": "SyntaxError",
     "evalue": "invalid syntax (2395500812.py, line 1)",
     "output_type": "error",
     "traceback": [
      "\u001b[0;36m  Cell \u001b[0;32mIn[142], line 1\u001b[0;36m\u001b[0m\n\u001b[0;31m    Q.2\u001b[0m\n\u001b[0m     ^\u001b[0m\n\u001b[0;31mSyntaxError\u001b[0m\u001b[0;31m:\u001b[0m invalid syntax\n"
     ]
    }
   ],
   "source": [
    "Q.2"
   ]
  },
  {
   "cell_type": "code",
   "execution_count": 141,
   "id": "faf0c60e-8d72-41ca-be39-865ed8de13e2",
   "metadata": {},
   "outputs": [
    {
     "name": "stdout",
     "output_type": "stream",
     "text": [
      "Encrypted message: i$wznt$to$yexome$z$dztz$sxientist.\n"
     ]
    }
   ],
   "source": [
    "msg = 'I want to become a Data Scientist.'\n",
    "\n",
    "message = msg.lower()\n",
    "\n",
    "encryp_msg = \"\"\n",
    "\n",
    "for ch in message:\n",
    "    if ch == 'a':\n",
    "        encryp_msg += 'z'\n",
    "    elif ch == 'b':\n",
    "        encryp_msg += 'y'\n",
    "    elif ch == 'c':\n",
    "        encryp_msg += 'x'\n",
    "    elif ch == ' ':\n",
    "        encryp_msg += '$'\n",
    "    else:\n",
    "        encryp_msg += ch\n",
    "\n",
    "print(\"Encrypted message: \" + encryp_msg)"
   ]
  },
  {
   "cell_type": "code",
   "execution_count": null,
   "id": "313231aa-17fd-4de7-961f-3044b1e4df6f",
   "metadata": {},
   "outputs": [],
   "source": []
  },
  {
   "cell_type": "code",
   "execution_count": null,
   "id": "f03393c8-75ae-4875-a57c-13a8168c7d16",
   "metadata": {},
   "outputs": [],
   "source": []
  }
 ],
 "metadata": {
  "kernelspec": {
   "display_name": "Python 3 (ipykernel)",
   "language": "python",
   "name": "python3"
  },
  "language_info": {
   "codemirror_mode": {
    "name": "ipython",
    "version": 3
   },
   "file_extension": ".py",
   "mimetype": "text/x-python",
   "name": "python",
   "nbconvert_exporter": "python",
   "pygments_lexer": "ipython3",
   "version": "3.10.8"
  }
 },
 "nbformat": 4,
 "nbformat_minor": 5
}
