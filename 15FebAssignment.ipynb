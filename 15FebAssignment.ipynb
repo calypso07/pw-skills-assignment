{
 "cells": [
  {
   "cell_type": "markdown",
   "id": "18d29657-3255-4d8d-856b-90a43cb7cdd7",
   "metadata": {},
   "source": [
    "##Q.1"
   ]
  },
  {
   "cell_type": "markdown",
   "id": "d3b48b9d-8c31-4275-9f99-8462135ec6e3",
   "metadata": {},
   "source": [
    "Multiprocessing in Python is a way of executing multiple processes simultaneously. It allows you to use multiple CPUs in order to increase the processing speed of your program. \n",
    "\n",
    "It is useful because it allows you to make use of all the CPUs in a computer, thus making the execution of the program faster. Multiprocessing can also make use of the memory available in the computer, thus allowing for larger data sets to be processed more quickly."
   ]
  },
  {
   "cell_type": "code",
   "execution_count": null,
   "id": "80408cd8-f1b9-4bd4-9617-6fa3cb084321",
   "metadata": {},
   "outputs": [],
   "source": []
  },
  {
   "cell_type": "markdown",
   "id": "51e0d0e2-816c-4fa0-ae4b-3e48ece017a2",
   "metadata": {},
   "source": [
    "##Q.2"
   ]
  },
  {
   "cell_type": "markdown",
   "id": "e4109eaf-0a40-4940-a314-c252afa232c1",
   "metadata": {},
   "source": [
    "Multiprocessing is a type of computing architecture in which multiple processing units execute different parts of a program simultaneously. This allows for faster processing of large amounts of data. It requires more memory and system resources than multithreading.\n",
    "\n",
    "Multithreading is a type of computing architecture in which a single processing unit is used to execute multiple parts of a program simultaneously. This allows for more efficient use of a single processor, as different parts of the program can be executed at the same time. It requires less system resources than multiprocessing, but is limited in the amount of data that can be processed at once."
   ]
  },
  {
   "cell_type": "code",
   "execution_count": null,
   "id": "1cd48012-63a4-4106-83f5-a12fee424d9f",
   "metadata": {},
   "outputs": [],
   "source": []
  },
  {
   "cell_type": "markdown",
   "id": "0d25e722-25b1-4072-9328-c25c1701861a",
   "metadata": {},
   "source": [
    "##Q.3"
   ]
  },
  {
   "cell_type": "code",
   "execution_count": 4,
   "id": "748881d7-9e96-4619-ac0d-7e7bcd6aead5",
   "metadata": {},
   "outputs": [],
   "source": [
    "import multiprocessing"
   ]
  },
  {
   "cell_type": "code",
   "execution_count": 8,
   "id": "03c1e6f3-326a-452e-8196-85babb42b986",
   "metadata": {},
   "outputs": [],
   "source": [
    "def test_fun():\n",
    "    print('this is a test function')"
   ]
  },
  {
   "cell_type": "code",
   "execution_count": 12,
   "id": "c805757f-d8c8-410e-8ac5-923f48b56db0",
   "metadata": {},
   "outputs": [
    {
     "name": "stdout",
     "output_type": "stream",
     "text": [
      "this should print\n",
      "this is a test function\n"
     ]
    }
   ],
   "source": [
    "if __name__ == '__main__':\n",
    "    m = multiprocessing.Process(target=test_fun)\n",
    "    print('this should print')\n",
    "    m.start()\n",
    "    m.join()"
   ]
  },
  {
   "cell_type": "code",
   "execution_count": null,
   "id": "be833ae6-4963-42cb-b8f7-0653ac267fba",
   "metadata": {},
   "outputs": [],
   "source": []
  },
  {
   "cell_type": "code",
   "execution_count": null,
   "id": "0ed9b448-869d-41e8-9697-1386c12666ac",
   "metadata": {},
   "outputs": [],
   "source": []
  },
  {
   "cell_type": "markdown",
   "id": "e41694a9-ba46-4fd1-886d-6a9437880aaa",
   "metadata": {},
   "source": [
    "##Q.4"
   ]
  },
  {
   "cell_type": "markdown",
   "id": "5015206d-cd4a-4227-9af7-92a3fc85127b",
   "metadata": {},
   "source": [
    "A multiprocessing pool in Python is a way to parallelize operations across multiple processes. It is used to speed up the execution of programs by distributing tasks across multiple processors or processes. By doing this, the program can take advantage of multiple cores on a single machine, or multiple machines, to increase its overall throughput. Multiprocessing pools are often used to execute computationally intensive tasks in parallel, as well as to reduce the amount of time it takes to execute a task."
   ]
  },
  {
   "cell_type": "code",
   "execution_count": null,
   "id": "6a5efb7a-74ca-454d-993a-15713fe7d9ea",
   "metadata": {},
   "outputs": [],
   "source": []
  },
  {
   "cell_type": "code",
   "execution_count": null,
   "id": "9fdac8a0-32b3-48a1-b8b6-6fab1048f4cc",
   "metadata": {},
   "outputs": [],
   "source": []
  },
  {
   "cell_type": "markdown",
   "id": "86f9a6e5-c985-4d3f-ad7d-50251c5e268b",
   "metadata": {},
   "source": [
    "##Q.5"
   ]
  },
  {
   "cell_type": "markdown",
   "id": "0de8fa90-cca0-414a-be07-abb552448ec8",
   "metadata": {},
   "source": [
    "The multiprocessing module provides a Pool class, which can be used to create a pool of worker processes. You can simply create a Pool object and specify the number of processes you want in the pool. For example:\n",
    "\n",
    "from multiprocessing import Pool\n",
    "\n",
    "pool = Pool(processes=4)\n",
    "\n",
    "This will create a pool with 4 worker processes."
   ]
  },
  {
   "cell_type": "code",
   "execution_count": null,
   "id": "cca1ac60-4ff7-4679-a83a-3d609680e72e",
   "metadata": {},
   "outputs": [],
   "source": []
  },
  {
   "cell_type": "code",
   "execution_count": null,
   "id": "efd3d6c5-083c-4dea-9991-2dba34a5a3bf",
   "metadata": {},
   "outputs": [],
   "source": []
  },
  {
   "cell_type": "markdown",
   "id": "3ca9e155-801d-4665-9537-1c44c8387b7e",
   "metadata": {},
   "source": [
    "##Q.6"
   ]
  },
  {
   "cell_type": "code",
   "execution_count": 26,
   "id": "392ef304-6709-4ba0-afab-ed128145c439",
   "metadata": {},
   "outputs": [],
   "source": [
    "import multiprocessing"
   ]
  },
  {
   "cell_type": "code",
   "execution_count": 25,
   "id": "23c88be8-11b8-4192-93da-1b8d85840be6",
   "metadata": {},
   "outputs": [],
   "source": [
    "def print_num(x):\n",
    "    print(x)"
   ]
  },
  {
   "cell_type": "code",
   "execution_count": 28,
   "id": "92c22e9f-7af4-46f4-a507-ce45af6d1830",
   "metadata": {},
   "outputs": [
    {
     "name": "stdout",
     "output_type": "stream",
     "text": [
      "11\n",
      "22\n",
      "33\n",
      "44\n"
     ]
    }
   ],
   "source": [
    "if __name__== '__main__':\n",
    "    p1 = multiprocessing.Process(target=print_num, args=(11,))\n",
    "    p2 = multiprocessing.Process(target=print_num, args=(22,))\n",
    "    p3 = multiprocessing.Process(target=print_num, args=(33,))\n",
    "    p4 = multiprocessing.Process(target=print_num, args=(44,))\n",
    "    \n",
    "    p1.start()\n",
    "    p2.start()\n",
    "    p3.start()\n",
    "    p4.start()"
   ]
  },
  {
   "cell_type": "code",
   "execution_count": null,
   "id": "ab303f05-e5cb-43d3-b15b-5f2dadb1312f",
   "metadata": {},
   "outputs": [],
   "source": []
  },
  {
   "cell_type": "code",
   "execution_count": null,
   "id": "3f22feee-33bf-4235-b169-5cd3de1ea63f",
   "metadata": {},
   "outputs": [],
   "source": []
  },
  {
   "cell_type": "code",
   "execution_count": null,
   "id": "114d2bb3-8e07-426f-aaa1-43b52928030c",
   "metadata": {},
   "outputs": [],
   "source": []
  }
 ],
 "metadata": {
  "kernelspec": {
   "display_name": "Python 3 (ipykernel)",
   "language": "python",
   "name": "python3"
  },
  "language_info": {
   "codemirror_mode": {
    "name": "ipython",
    "version": 3
   },
   "file_extension": ".py",
   "mimetype": "text/x-python",
   "name": "python",
   "nbconvert_exporter": "python",
   "pygments_lexer": "ipython3",
   "version": "3.10.8"
  }
 },
 "nbformat": 4,
 "nbformat_minor": 5
}
