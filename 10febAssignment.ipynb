{
 "cells": [
  {
   "cell_type": "markdown",
   "id": "86aa4825-52c5-4443-a692-2a7ae838ff6c",
   "metadata": {},
   "source": [
    "## Q.1"
   ]
  },
  {
   "cell_type": "markdown",
   "id": "07c4faeb-af6a-4df0-8930-665dad789e63",
   "metadata": {},
   "source": [
    "The open() function is used to open a file in Python. The open() function in Python accepts two arguments. The first one is the file name along with the complete path and the second one is the file open mode. \n",
    "\n",
    "The different modes of opening a file are: \n",
    "\n",
    "1. \"r\" - Read Mode: Opens a file for reading only. The file pointer is placed at the beginning of the file. This is the default mode. \n",
    "\n",
    "2. \"w\" - Write Mode: Opens a file for writing only. Overwrites the file if the file already exists. If the file does not exist, creates a new file for writing. \n",
    "\n",
    "3. \"a\" - Append Mode: Opens a file for appending. The file pointer is at the end of the file if the file exists. That is, the file is in the append mode. If the file does not exist, it creates a new file for writing. \n",
    "\n",
    "4. \"x\" - Create Mode: Creates a new file. If the file already exists, the operation fails. \n",
    "\n",
    "5. \"t\" - Text Mode: Default mode. Text mode is used for file operations related to plain text. \n",
    "\n",
    "6. \"b\" - Binary Mode: Binary mode is used for file operations related to binary files like images or executable files."
   ]
  },
  {
   "cell_type": "code",
   "execution_count": null,
   "id": "3b81757c-2b40-48b5-b344-c845dfa9ef4c",
   "metadata": {},
   "outputs": [],
   "source": []
  },
  {
   "cell_type": "code",
   "execution_count": null,
   "id": "b6c5d952-96cc-4ba1-bb64-7f748782e7e7",
   "metadata": {},
   "outputs": [],
   "source": []
  },
  {
   "cell_type": "markdown",
   "id": "90efa4ee-af3a-47a8-9a07-4ab6d2af69d9",
   "metadata": {},
   "source": [
    "## Q.2"
   ]
  },
  {
   "cell_type": "markdown",
   "id": "94e0117f-5994-4547-8440-2c24c0bafb3e",
   "metadata": {},
   "source": [
    "The close() function is used to close a file after you have finished using it.\n",
    "\n",
    "This is important because it frees up the resources associated with the file and ensures that any data written to it is committed to the disk. It also prevents other programs from modifying the file while it is open. Failing to close a file can lead to data corruption or loss."
   ]
  },
  {
   "cell_type": "code",
   "execution_count": null,
   "id": "975a2171-36f8-4829-bc78-81b007e2246a",
   "metadata": {},
   "outputs": [],
   "source": []
  },
  {
   "cell_type": "markdown",
   "id": "77732de1-d2da-49ec-b4e2-20c7a3a28547",
   "metadata": {},
   "source": [
    "## Q.3"
   ]
  },
  {
   "cell_type": "code",
   "execution_count": 1,
   "id": "5c4a040e-0784-44dc-bfcf-c338330de142",
   "metadata": {},
   "outputs": [],
   "source": [
    "f = open('file.txt', 'w')"
   ]
  },
  {
   "cell_type": "code",
   "execution_count": 2,
   "id": "58e85e71-3925-4eba-8bfa-7cd488d9fff4",
   "metadata": {},
   "outputs": [
    {
     "data": {
      "text/plain": [
       "33"
      ]
     },
     "execution_count": 2,
     "metadata": {},
     "output_type": "execute_result"
    }
   ],
   "source": [
    "f.write('I want to become a Data Scientist')"
   ]
  },
  {
   "cell_type": "code",
   "execution_count": 3,
   "id": "5a19ca81-5739-4a70-9090-a3781937b099",
   "metadata": {},
   "outputs": [],
   "source": [
    "f.close()"
   ]
  },
  {
   "cell_type": "code",
   "execution_count": 4,
   "id": "4ba1f54a-e534-4239-99e7-9c50ce49314d",
   "metadata": {},
   "outputs": [],
   "source": [
    "f = open('file.txt', 'r')"
   ]
  },
  {
   "cell_type": "code",
   "execution_count": 5,
   "id": "ae602aaa-6307-4503-a5f9-3205c493c5b3",
   "metadata": {},
   "outputs": [
    {
     "data": {
      "text/plain": [
       "'I want to become a Data Scientist'"
      ]
     },
     "execution_count": 5,
     "metadata": {},
     "output_type": "execute_result"
    }
   ],
   "source": [
    "f.read()"
   ]
  },
  {
   "cell_type": "code",
   "execution_count": 6,
   "id": "f2977576-2c98-457f-a065-6be8ecdd42ed",
   "metadata": {},
   "outputs": [],
   "source": [
    "f.close()"
   ]
  },
  {
   "cell_type": "code",
   "execution_count": null,
   "id": "aab8172c-fc41-47b1-a31e-7db35f7d89d9",
   "metadata": {},
   "outputs": [],
   "source": []
  },
  {
   "cell_type": "markdown",
   "id": "cbce9bf5-c024-4a6b-849f-e423f1bf78c2",
   "metadata": {},
   "source": [
    "## Q.4"
   ]
  },
  {
   "cell_type": "markdown",
   "id": "59bb0ee1-5997-452f-9091-2f417a0a74b3",
   "metadata": {},
   "source": [
    "\n",
    "The read() function reads the entire contents of a file as a single string.\n",
    "\n",
    "The readline() function reads a single line from the file at a time and returns it as a string.\n",
    "\n",
    "The readlines() function reads the entire file and returns it as a list of strings, where each line is an element in the list."
   ]
  },
  {
   "cell_type": "code",
   "execution_count": null,
   "id": "8a088100-b35b-435c-947d-ee23709e892e",
   "metadata": {},
   "outputs": [],
   "source": []
  },
  {
   "cell_type": "markdown",
   "id": "1e5a6b9c-89b1-4d21-aa80-01cfbddccf1d",
   "metadata": {},
   "source": [
    "## Q.5"
   ]
  },
  {
   "cell_type": "markdown",
   "id": "0c146bb1-aa0e-4621-bad1-959de30b2ad5",
   "metadata": {},
   "source": [
    "The \"with\" statement in Python is used to open a file and execute a block of code, and then automatically close the file when the block is finished, thus making it easier to manage file objects and exceptions.\n",
    "\n",
    "1. The with statement simplifies exception handling by automatically closing the file if an exception is raised.\n",
    "2. The with statement eliminates the need to explicitly close the file after its use.\n",
    "3. The open() function automates the process of opening and closing the file, allowing for easy access to the file contents.\n"
   ]
  },
  {
   "cell_type": "code",
   "execution_count": null,
   "id": "0ae6ea4a-9484-45f4-8124-9d7ff0f2d1e6",
   "metadata": {},
   "outputs": [],
   "source": []
  },
  {
   "cell_type": "markdown",
   "id": "41846238-5d85-48ce-8a05-a9a45abe6636",
   "metadata": {},
   "source": [
    "## Q.6"
   ]
  },
  {
   "cell_type": "markdown",
   "id": "ab6aa65f-8f3b-4241-83b0-a642e656ba1f",
   "metadata": {},
   "source": [
    "Write() method takes a string as an argument and writes it to the text file."
   ]
  },
  {
   "cell_type": "code",
   "execution_count": 8,
   "id": "9f6c1840-f9c4-4817-b67b-10090cefc428",
   "metadata": {},
   "outputs": [],
   "source": [
    "f = open('textfile.txt', 'w')\n",
    "f.write('this is the test file')\n",
    "f.close()"
   ]
  },
  {
   "cell_type": "markdown",
   "id": "6e8b0143-7df3-4547-a29a-08b1ef8a48a7",
   "metadata": {},
   "source": [
    "Writelines() method is used to wirte multiple string to a file. We need to pass an iterable object like lists, tuple etc. containing string to writelines() method"
   ]
  },
  {
   "cell_type": "code",
   "execution_count": 11,
   "id": "c2c2172b-d2d4-4fc5-9fc2-99f224789801",
   "metadata": {},
   "outputs": [],
   "source": [
    "f = open('textfile.txt', 'w')\n",
    "f.writelines(['this is the test file ', 'this is the second line ', 'this is the third line '])\n",
    "f.close()"
   ]
  }
 ],
 "metadata": {
  "kernelspec": {
   "display_name": "Python 3 (ipykernel)",
   "language": "python",
   "name": "python3"
  },
  "language_info": {
   "codemirror_mode": {
    "name": "ipython",
    "version": 3
   },
   "file_extension": ".py",
   "mimetype": "text/x-python",
   "name": "python",
   "nbconvert_exporter": "python",
   "pygments_lexer": "ipython3",
   "version": "3.10.8"
  }
 },
 "nbformat": 4,
 "nbformat_minor": 5
}
