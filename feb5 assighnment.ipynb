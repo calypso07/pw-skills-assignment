{
 "cells": [
  {
   "cell_type": "markdown",
   "id": "3f331de4-fa58-4da9-a1d1-a78f38ce3724",
   "metadata": {},
   "source": [
    "Q.1\n",
    "A class can be understood as a template or a blueprint, which contains some values, known as data members, and some set of rules, known as behaviors or methods. The data and methods that are defined in the class are automatically taken when an object is created. The class is a template or blueprint for objects. One can make as many objects as they want to be based on a class.\n",
    "\n",
    "An object is a class instance that allows programmers to use variables and methods from inside the class. An object is a physical entity. When objects are created, memory is allocated to them in the heap memory. A class can be used to create many objects."
   ]
  },
  {
   "cell_type": "code",
   "execution_count": 1,
   "id": "cdd73dda-349e-474f-b52f-fa69244f7046",
   "metadata": {},
   "outputs": [],
   "source": [
    "class cars:\n",
    "    def __init__(self, car_model, car_year, car_price):\n",
    "        \n",
    "        self.model = car_model\n",
    "        self.year = car_year\n",
    "        self.price = car_price\n",
    "        \n",
    "    def details(self):\n",
    "        return self.model, self.year, self.price"
   ]
  },
  {
   "cell_type": "code",
   "execution_count": 2,
   "id": "aec39bb5-9da3-4db8-9b73-24e18b5f4615",
   "metadata": {},
   "outputs": [],
   "source": [
    "toyota= cars('fortuner', 2022, 2500000)"
   ]
  },
  {
   "cell_type": "code",
   "execution_count": 3,
   "id": "a00df651-4439-4fcf-b19c-b938a78bca69",
   "metadata": {},
   "outputs": [
    {
     "data": {
      "text/plain": [
       "('fortuner', 2022, 2500000)"
      ]
     },
     "execution_count": 3,
     "metadata": {},
     "output_type": "execute_result"
    }
   ],
   "source": [
    "toyota.details()"
   ]
  },
  {
   "cell_type": "code",
   "execution_count": 4,
   "id": "65f76791-f6ac-4a52-a02e-ebe5c53f48ec",
   "metadata": {},
   "outputs": [
    {
     "data": {
      "text/plain": [
       "'fortuner'"
      ]
     },
     "execution_count": 4,
     "metadata": {},
     "output_type": "execute_result"
    }
   ],
   "source": [
    "toyota.model"
   ]
  },
  {
   "cell_type": "code",
   "execution_count": null,
   "id": "f23086cf-c7d3-4c66-a31a-000fd4e4a7a3",
   "metadata": {},
   "outputs": [],
   "source": []
  },
  {
   "cell_type": "markdown",
   "id": "67dabbd2-98a6-4815-90c8-52340dc757c6",
   "metadata": {},
   "source": [
    "Q.2 Four Piller of OOPS"
   ]
  },
  {
   "cell_type": "markdown",
   "id": "6003c62c-54d6-444b-81dc-8c0ac317ff94",
   "metadata": {},
   "source": [
    "Inheritance, Polymorphism, Encapsulation and Abstraction are know as the four piller of the oops."
   ]
  },
  {
   "cell_type": "code",
   "execution_count": null,
   "id": "74997054-db48-420a-ba26-c8e570a326b1",
   "metadata": {},
   "outputs": [],
   "source": []
  },
  {
   "cell_type": "markdown",
   "id": "d95874f2-e01c-4af3-9f53-792330319821",
   "metadata": {},
   "source": [
    "Q.3 __init__\n",
    "All classes have a function called __init__(), which is always executed when the class is being initiated.\n",
    "\n",
    "Use the __init__() function to assign values to object properties, or other operations that are necessary to do when the object is being created:"
   ]
  },
  {
   "cell_type": "code",
   "execution_count": 5,
   "id": "fe47372c-01b4-420f-85b6-da809762346c",
   "metadata": {},
   "outputs": [],
   "source": [
    "class person():\n",
    "    def __init__(self, name, age):\n",
    "        self.name = name\n",
    "        self.age = age"
   ]
  },
  {
   "cell_type": "code",
   "execution_count": 6,
   "id": "2a75f3c4-78a3-4e06-9052-4586ca9d6891",
   "metadata": {},
   "outputs": [],
   "source": [
    "p = person('Mac', 27)"
   ]
  },
  {
   "cell_type": "code",
   "execution_count": 7,
   "id": "04b92263-6101-4b09-b5a8-706cd4c57f88",
   "metadata": {},
   "outputs": [
    {
     "data": {
      "text/plain": [
       "'Mac'"
      ]
     },
     "execution_count": 7,
     "metadata": {},
     "output_type": "execute_result"
    }
   ],
   "source": [
    "p.name"
   ]
  },
  {
   "cell_type": "code",
   "execution_count": null,
   "id": "15abe346-63c6-4fec-af99-3a15386c2186",
   "metadata": {},
   "outputs": [],
   "source": []
  },
  {
   "cell_type": "markdown",
   "id": "08900ad0-a349-4a95-8429-7f9a96a31cd0",
   "metadata": {},
   "source": [
    "Q.4 The self parameter is a reference to the current instance of the class, and is used to access variables that belongs to the class.\n",
    "It does not have to be named self , you can call it whatever you like, but it has to be the first parameter of any function in the class."
   ]
  },
  {
   "cell_type": "code",
   "execution_count": null,
   "id": "39539d25-98f6-40cf-9b64-ebf32f03bc34",
   "metadata": {},
   "outputs": [],
   "source": []
  },
  {
   "cell_type": "markdown",
   "id": "4adcb02b-7cc6-4ddb-9b49-1491c9fea965",
   "metadata": {},
   "source": [
    "Q.5 The process of inheriting the properties of the parent class into a child class is called inheritance. The existing class is called a base class or parent class and the new class is called a subclass or child class or derived class.\n",
    "\n",
    "In Python, based upon the number of child and parent classes involved, there are five types of inheritance. The type of inheritance are listed below:\n",
    "\n",
    "1. Single inheritance\n",
    "2. Multiple Inheritance\n",
    "3. Multilevel inheritance\n",
    "4. Hierarchical Inheritance\n",
    "5. Hybrid Inheritance"
   ]
  },
  {
   "cell_type": "code",
   "execution_count": 8,
   "id": "e89c9d0e-f345-47cf-8a1c-00dfba1fe723",
   "metadata": {},
   "outputs": [],
   "source": [
    "# Parent class\n",
    "class Vehicle:\n",
    "    def Vehicle_info(self):\n",
    "        print('Inside Vehicle class')\n",
    "\n",
    "# Child class\n",
    "class Car(Vehicle):\n",
    "    def car_info(self):\n",
    "        print('Inside Car class')"
   ]
  },
  {
   "cell_type": "code",
   "execution_count": 14,
   "id": "990e4418-ac1f-4cf9-a1d5-a6f13b10729f",
   "metadata": {},
   "outputs": [
    {
     "name": "stdout",
     "output_type": "stream",
     "text": [
      "Inside Vehicle class\n",
      "Inside Car class\n"
     ]
    }
   ],
   "source": [
    "# Create object of Car\n",
    "car = Car()\n",
    "\n",
    "# access Vehicle's info using car object\n",
    "car.Vehicle_info()\n",
    "car.car_info()"
   ]
  },
  {
   "cell_type": "code",
   "execution_count": null,
   "id": "c8377336-6187-4ba0-ac4e-49711d9717ec",
   "metadata": {},
   "outputs": [],
   "source": []
  },
  {
   "cell_type": "code",
   "execution_count": 18,
   "id": "5de5da37-8058-4d8e-bb4d-71b6fe105076",
   "metadata": {},
   "outputs": [
    {
     "name": "stdout",
     "output_type": "stream",
     "text": [
      "Inside Person class\n",
      "Name: Jessa Age: 28\n",
      "Inside Company class\n",
      "Name: Google location: Atlanta\n",
      "Inside Employee class\n",
      "Salary: 12000 Skill: Machine Learning\n"
     ]
    }
   ],
   "source": [
    "#multiple inheritence\n",
    "# Parent class 1\n",
    "class Person:\n",
    "    def person_info(self, name, age):\n",
    "        print('Inside Person class')\n",
    "        print('Name:', name, 'Age:', age)\n",
    "\n",
    "# Parent class 2\n",
    "class Company:\n",
    "    def company_info(self, company_name, location):\n",
    "        print('Inside Company class')\n",
    "        print('Name:', company_name, 'location:', location)\n",
    "\n",
    "# Child class\n",
    "class Employee(Person, Company):\n",
    "    def Employee_info(self, salary, skill):\n",
    "        print('Inside Employee class')\n",
    "        print('Salary:', salary, 'Skill:', skill)\n",
    "\n",
    "# Create object of Employee\n",
    "emp = Employee()\n",
    "\n",
    "# access data\n",
    "emp.person_info('Jessa', 28)\n",
    "emp.company_info('Google', 'Atlanta')\n",
    "emp.Employee_info(12000, 'Machine Learning')"
   ]
  },
  {
   "cell_type": "code",
   "execution_count": null,
   "id": "9cb47817-dfe3-474d-b8e2-b8b1d21b3778",
   "metadata": {},
   "outputs": [],
   "source": []
  },
  {
   "cell_type": "code",
   "execution_count": 17,
   "id": "c3549d90-fad3-4e41-91b6-749521164483",
   "metadata": {},
   "outputs": [
    {
     "name": "stdout",
     "output_type": "stream",
     "text": [
      "Inside Vehicle class\n",
      "Inside Car class\n",
      "Inside SportsCar class\n"
     ]
    }
   ],
   "source": [
    "#Multilevel inheritance\n",
    "# Base class\n",
    "class Vehicle:\n",
    "    def Vehicle_info(self):\n",
    "        print('Inside Vehicle class')\n",
    "\n",
    "# Child class\n",
    "class Car(Vehicle):\n",
    "    def car_info(self):\n",
    "        print('Inside Car class')\n",
    "\n",
    "# Child class\n",
    "class SportsCar(Car):\n",
    "    def sports_car_info(self):\n",
    "        print('Inside SportsCar class')\n",
    "\n",
    "# Create object of SportsCar\n",
    "s_car = SportsCar()\n",
    "\n",
    "# access Vehicle's and Car info using SportsCar object\n",
    "s_car.Vehicle_info()\n",
    "s_car.car_info()\n",
    "s_car.sports_car_info()"
   ]
  },
  {
   "cell_type": "code",
   "execution_count": null,
   "id": "c770e2e3-382c-4d9e-a50d-463810e1cc56",
   "metadata": {},
   "outputs": [],
   "source": []
  },
  {
   "cell_type": "code",
   "execution_count": 20,
   "id": "65d931f3-dbeb-4024-8b85-bf631cb28b64",
   "metadata": {},
   "outputs": [
    {
     "name": "stdout",
     "output_type": "stream",
     "text": [
      "This is Vehicle\n",
      "Car name is: BMW\n",
      "This is Vehicle\n",
      "Truck name is: Ford\n"
     ]
    }
   ],
   "source": [
    "#hierarchichal inhertence\n",
    "\n",
    "class Vehicle:\n",
    "    def info(self):\n",
    "        print(\"This is Vehicle\")\n",
    "\n",
    "class Car(Vehicle):\n",
    "    def car_info(self, name):\n",
    "        print(\"Car name is:\", name)\n",
    "\n",
    "class Truck(Vehicle):\n",
    "    def truck_info(self, name):\n",
    "        print(\"Truck name is:\", name)\n",
    "\n",
    "obj1 = Car()\n",
    "obj1.info()\n",
    "obj1.car_info('BMW')\n",
    "\n",
    "obj2 = Truck()\n",
    "obj2.info()\n",
    "obj2.truck_info('Ford')"
   ]
  },
  {
   "cell_type": "code",
   "execution_count": null,
   "id": "9fb478d3-e14a-49e9-9dfa-2548729fb847",
   "metadata": {},
   "outputs": [],
   "source": []
  },
  {
   "cell_type": "code",
   "execution_count": 22,
   "id": "b4b1f68f-16bb-4007-a12a-8ab3d82c1933",
   "metadata": {},
   "outputs": [
    {
     "name": "stdout",
     "output_type": "stream",
     "text": [
      "Inside Vehicle class\n",
      "Inside Car class\n",
      "Inside SportsCar class\n"
     ]
    }
   ],
   "source": [
    "#hybrid inheritence\n",
    "class Vehicle:\n",
    "    def vehicle_info(self):\n",
    "        print(\"Inside Vehicle class\")\n",
    "\n",
    "class Car(Vehicle):\n",
    "    def car_info(self):\n",
    "        print(\"Inside Car class\")\n",
    "\n",
    "class Truck(Vehicle):\n",
    "    def truck_info(self):\n",
    "        print(\"Inside Truck class\")\n",
    "\n",
    "# Sports Car can inherits properties of Vehicle and Car\n",
    "class SportsCar(Car, Vehicle):\n",
    "    def sports_car_info(self):\n",
    "        print(\"Inside SportsCar class\")\n",
    "\n",
    "# create object\n",
    "s_car = SportsCar()\n",
    "\n",
    "s_car.vehicle_info()\n",
    "s_car.car_info()\n",
    "s_car.sports_car_info()"
   ]
  },
  {
   "cell_type": "code",
   "execution_count": null,
   "id": "c1eb2a17-4fc1-4671-adb1-60f0e89a0382",
   "metadata": {},
   "outputs": [],
   "source": []
  },
  {
   "cell_type": "code",
   "execution_count": null,
   "id": "6b090d26-5f30-4cd6-9626-796cc9248030",
   "metadata": {},
   "outputs": [],
   "source": []
  },
  {
   "cell_type": "code",
   "execution_count": null,
   "id": "082b8e54-a238-480a-9154-ddd6aaa61796",
   "metadata": {},
   "outputs": [],
   "source": []
  },
  {
   "cell_type": "code",
   "execution_count": null,
   "id": "88542cab-4a02-4984-bcf8-a17103ff7d26",
   "metadata": {},
   "outputs": [],
   "source": []
  }
 ],
 "metadata": {
  "kernelspec": {
   "display_name": "Python 3 (ipykernel)",
   "language": "python",
   "name": "python3"
  },
  "language_info": {
   "codemirror_mode": {
    "name": "ipython",
    "version": 3
   },
   "file_extension": ".py",
   "mimetype": "text/x-python",
   "name": "python",
   "nbconvert_exporter": "python",
   "pygments_lexer": "ipython3",
   "version": "3.10.8"
  }
 },
 "nbformat": 4,
 "nbformat_minor": 5
}
