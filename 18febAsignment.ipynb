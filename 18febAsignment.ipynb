{
 "cells": [
  {
   "cell_type": "markdown",
   "id": "7b1f5e60-73d3-49db-a8e3-d2aa7c8ffaf1",
   "metadata": {},
   "source": [
    "##Q.1"
   ]
  },
  {
   "cell_type": "markdown",
   "id": "593ca2ae-679c-48e6-862b-93a34309df88",
   "metadata": {},
   "source": [
    "An API (Application Programming Interface) is a set of protocols, routines, and tools used to build software applications. It allows different software applications to communicate with each other without any user intervention. For example, when you order a product from an e-commerce website, the website's backend uses an API to communicate with the payment gateway to process the payment.\n",
    "\n",
    "An API is used in many real-life applications, such as online banking, ride-hailing applications, social media platforms, and e-commerce websites. In online banking, APIs can be used to securely transfer data between two parties, allowing customers to easily check their account balances, pay bills, and transfer funds. In ride-hailing applications, APIs allow the app to access a user's location and calculate the cost of their trip. Social media platforms use APIs to allow users to connect and share content across multiple platforms. Finally, e-commerce websites use APIs to securely process payments and deliver products to customers."
   ]
  },
  {
   "cell_type": "code",
   "execution_count": null,
   "id": "37d955a6-7b32-408d-b51a-671e7d70f8c3",
   "metadata": {},
   "outputs": [],
   "source": []
  },
  {
   "cell_type": "markdown",
   "id": "ada29c35-0fd5-4f7b-9bb9-07f8540e161d",
   "metadata": {},
   "source": [
    "##Q.2"
   ]
  },
  {
   "cell_type": "markdown",
   "id": "fdf55a4c-0d1e-4015-9bf8-87b89ba936bb",
   "metadata": {},
   "source": [
    "Advantages and disadvantages of using API.\n",
    "\n",
    "Advantages:\n",
    "\n",
    "1. Enhanced Functionality: APIs allow developers to access functionalities and data that may not be available in the application itself. This can significantly enhance the functionality of a program or website.\n",
    "\n",
    "2. Increased Efficiency: APIs can be used to streamline processes and make them more efficient. For example, they can be used to automate tasks such as data retrieval and manipulation.\n",
    "\n",
    "3. Improved Security: APIs can be used to secure data by providing access only to authorized users. This helps to reduce the risk of malicious attacks.\n",
    "\n",
    "4. Reduced Development Time: APIs can significantly reduce the time and effort required to develop a program or website. This is because developers can re-use existing code and functionalities instead of having to code them from scratch.\n",
    "\n",
    "Disadvantages:\n",
    "\n",
    "1. Cost: APIs can be expensive to implement and maintain. This can be a major obstacle for small businesses or those on a tight budget.\n",
    "\n",
    "2. Complexity: APIs can be difficult to implement and maintain due to their complexity. This can be a major issue for inexperienced developers.\n",
    "\n",
    "3. Security Risk: APIs can present a security risk if not implemented correctly. This is because they provide access to sensitive data."
   ]
  },
  {
   "cell_type": "code",
   "execution_count": null,
   "id": "17f6f219-33f3-4df9-804e-d6f87f71bf88",
   "metadata": {},
   "outputs": [],
   "source": []
  },
  {
   "cell_type": "markdown",
   "id": "561781ac-7b62-4768-bd2e-ed4bfe321478",
   "metadata": {},
   "source": [
    "##Q.3"
   ]
  },
  {
   "cell_type": "markdown",
   "id": "137f6a87-925a-4dac-b311-a97e11e1c734",
   "metadata": {},
   "source": [
    "A Web API is an application programming interface (API) that can be used by web applications to access data or services. It is a set of protocols and standards used for exchanging data between applications or systems.\n",
    "\n",
    "The main difference between API and Web API is that API is a generic term that refers to the set of protocols and standards used for building software applications, while Web API is a set of protocols used for creating web applications. API provides a set of functions and procedures that allow the creation of applications that access the features or data of an application or operating system, while Web API provides a set of protocols and standards for creating web applications."
   ]
  },
  {
   "cell_type": "code",
   "execution_count": null,
   "id": "3ea94abd-6389-4973-b824-dcdc4e97ccaf",
   "metadata": {},
   "outputs": [],
   "source": []
  },
  {
   "cell_type": "markdown",
   "id": "ee29eae8-c974-4105-a212-6dde7d80b794",
   "metadata": {},
   "source": [
    "##Q.4"
   ]
  },
  {
   "cell_type": "markdown",
   "id": "218b2f93-2975-4136-a152-6184ec90b159",
   "metadata": {},
   "source": [
    "\n",
    "\n",
    "REST (Representational State Transfer) is an architectural style for providing standards between computer systems on the web, making it easier for systems to communicate with each other. REST is a lightweight alternative to mechanisms like RPC (Remote Procedure Calls) and Web Services (SOAP) that use more bandwidth and require more processing power.\n",
    "\n",
    "SOAP (Simple Object Access Protocol) is an XML-based communication protocol for web services. It provides a way for applications to access and exchange data over the internet. SOAP works by using XML to define the message structure, and HTTP/HTTPS to transport the messages.\n",
    "\n",
    "The main shortcoming of SOAP is that it is more complex and requires more bandwidth than REST. Additionally, it relies on XML to define the message structure, which can be more difficult to parse than the simpler JSON format used by REST."
   ]
  },
  {
   "cell_type": "code",
   "execution_count": null,
   "id": "0530ecd0-b109-48b9-88f7-4e563e6ff103",
   "metadata": {},
   "outputs": [],
   "source": []
  },
  {
   "cell_type": "markdown",
   "id": "cedc71ae-adb9-4190-bb50-c336890ac755",
   "metadata": {},
   "source": [
    "##Q.5"
   ]
  },
  {
   "cell_type": "markdown",
   "id": "74ae2ed3-f9e5-49cd-91c5-260b2ae5da02",
   "metadata": {},
   "source": [
    "REST (Representational State Transfer) is an architectural style for creating web services which is based on a stateless client-server relationship. It is designed to be lightweight and easy to use, and it is often used to provide data to web applications. REST services can be accessed via the web, and the data is usually provided in a standard format such as XML or JSON.\n",
    "\n",
    "SOAP (Simple Object Access Protocol) is an XML-based messaging protocol for exchanging information between two systems. It is a more complex protocol than REST as it provides a framework for defining operations and messages, and for describing the format of the messages. It is often used to create web services that are used by multiple applications, as it allows for more complex communication between systems."
   ]
  },
  {
   "cell_type": "code",
   "execution_count": null,
   "id": "b3bd0a7a-559c-4d9e-afdc-368be9fba084",
   "metadata": {},
   "outputs": [],
   "source": []
  },
  {
   "cell_type": "code",
   "execution_count": null,
   "id": "27f06157-8310-4a59-9190-d4bcce77cb34",
   "metadata": {},
   "outputs": [],
   "source": []
  }
 ],
 "metadata": {
  "kernelspec": {
   "display_name": "Python 3 (ipykernel)",
   "language": "python",
   "name": "python3"
  },
  "language_info": {
   "codemirror_mode": {
    "name": "ipython",
    "version": 3
   },
   "file_extension": ".py",
   "mimetype": "text/x-python",
   "name": "python",
   "nbconvert_exporter": "python",
   "pygments_lexer": "ipython3",
   "version": "3.10.8"
  }
 },
 "nbformat": 4,
 "nbformat_minor": 5
}
