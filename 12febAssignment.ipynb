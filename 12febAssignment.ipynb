{
 "cells": [
  {
   "cell_type": "markdown",
   "id": "ca6ba362-0cb0-4621-aee7-e67964f10e65",
   "metadata": {},
   "source": [
    "## Q.1"
   ]
  },
  {
   "cell_type": "markdown",
   "id": "f825b1d8-ec72-4bee-84cc-62b29990e9f7",
   "metadata": {},
   "source": [
    "An exception is an event, which occurs during the execution of a program that disrupts the normal flow of the program's instructions. In general, when a Python script encounters a situation that it cannot cope with, it raises an exception. An exception is a Python object that represents an error.\n",
    "\n",
    "Diffrence\n",
    "\n",
    "\n",
    "Error: An error is a problem that arises during the compilation or execution of a program. It indicates that there is a mistake in the code which is preventing it from running properly.\n",
    "\n",
    "Exception: An exception is an event that can be raised during the execution of a program and can be handled by the program. It indicates that something unusual has happened and can be handled or recovered from."
   ]
  },
  {
   "cell_type": "code",
   "execution_count": null,
   "id": "651f700f-67dc-47d1-a712-dcfd3bf72f42",
   "metadata": {},
   "outputs": [],
   "source": []
  },
  {
   "cell_type": "markdown",
   "id": "d83d0b32-69db-49c1-baf9-dc5a9baf8043",
   "metadata": {},
   "source": [
    "## Q.2"
   ]
  },
  {
   "cell_type": "markdown",
   "id": "6ccef33a-173a-4220-b54f-4c659914b95a",
   "metadata": {},
   "source": [
    "When exceptions in Python are not handled, the program will crash and terminate. Depending on the type of exception, the program may display an error message with details about what went wrong or it may simply stop running without any explanation."
   ]
  },
  {
   "cell_type": "code",
   "execution_count": null,
   "id": "acf7c81f-cb04-4729-bcb5-d8a63b1d101c",
   "metadata": {},
   "outputs": [],
   "source": [
    "# it will throw error which can be handled with try and catch\n",
    "f = open('nofile.text', 'r')\n",
    "#No such file or directory:"
   ]
  },
  {
   "cell_type": "code",
   "execution_count": null,
   "id": "6887cd80-d964-4c24-8a43-a4ea860a5b1d",
   "metadata": {},
   "outputs": [],
   "source": []
  },
  {
   "cell_type": "markdown",
   "id": "4383db1a-2c81-4e7f-bfb7-80a567cb5483",
   "metadata": {},
   "source": [
    "## Q.3"
   ]
  },
  {
   "cell_type": "markdown",
   "id": "28930d53-7e61-4477-91fb-303f4d5ddf40",
   "metadata": {},
   "source": [
    "The \"try/except\" statement is used to catch errors in Python."
   ]
  },
  {
   "cell_type": "code",
   "execution_count": 9,
   "id": "4d1538d5-c923-4e4b-a203-2c868851507c",
   "metadata": {},
   "outputs": [
    {
     "name": "stdout",
     "output_type": "stream",
     "text": [
      "[Errno 2] No such file or directory: 'nofile.text'\n"
     ]
    }
   ],
   "source": [
    "try:\n",
    "    f = open('nofile.text', 'r')\n",
    "except Exception as e:\n",
    "    print(e)"
   ]
  },
  {
   "cell_type": "code",
   "execution_count": null,
   "id": "7909b7d1-bb74-49ac-beb1-e20ae7b0295b",
   "metadata": {},
   "outputs": [],
   "source": []
  },
  {
   "cell_type": "markdown",
   "id": "f4436717-a3a2-460d-957e-53e5baeb1eaf",
   "metadata": {},
   "source": [
    "## Q.4"
   ]
  },
  {
   "cell_type": "markdown",
   "id": "36dc3232-de69-4937-9f4b-074645251794",
   "metadata": {},
   "source": [
    "Try: The code that may throw an exception is put in the try block.\n",
    "\n",
    "Else: If no exception is thrown, the code in the else block will be executed.\n",
    "\n",
    "Finally: The code in the finally block will always be executed regardless of whether an exception is thrown or not. This is useful for cleaning up resources, such as closing files or database connections.\n",
    "\n",
    "Raise: in Python is a statement used to raise an exception; it is used when an error or exception occurs to stop the program execution and print an error message."
   ]
  },
  {
   "cell_type": "code",
   "execution_count": 11,
   "id": "38cfb956-3123-4fa9-9c7c-4c9e9cfffb29",
   "metadata": {},
   "outputs": [
    {
     "name": "stdout",
     "output_type": "stream",
     "text": [
      "[Errno 2] No such file or directory: 'nofile.text'\n",
      "i will aways excute\n"
     ]
    }
   ],
   "source": [
    "try:\n",
    "    f = open('nofile.text', 'r')\n",
    "except Exception as e:\n",
    "    print(e)\n",
    "finally:\n",
    "    print('i will aways excute')"
   ]
  },
  {
   "cell_type": "code",
   "execution_count": 12,
   "id": "85e3f124-7f52-4b2a-8b34-cd7e8dba36e0",
   "metadata": {},
   "outputs": [
    {
     "name": "stdout",
     "output_type": "stream",
     "text": [
      "i will only execute when try blocks executes succesfully\n"
     ]
    }
   ],
   "source": [
    "try:\n",
    "    f = open('fileExist.text', 'w')\n",
    "except Exception as e:\n",
    "    print(e)\n",
    "else:\n",
    "    print('i will only execute when try blocks executes succesfully')"
   ]
  },
  {
   "cell_type": "code",
   "execution_count": 30,
   "id": "e3d2aa87-7829-49d3-8e02-a8c601367126",
   "metadata": {},
   "outputs": [],
   "source": [
    "class validator(Exception):\n",
    "    def __init__(self, msg):\n",
    "        self.msg = msg\n",
    "\n",
    "def raisefunc(num):\n",
    "    if num > 10:\n",
    "        raise validator('too high number, i am going to pop up')\n",
    "    if num < 0:\n",
    "        raise validator('negative number, i am going to pop up')"
   ]
  },
  {
   "cell_type": "code",
   "execution_count": 33,
   "id": "3a959bbd-7f4d-46d0-8ed8-6fa90f71b6c6",
   "metadata": {},
   "outputs": [
    {
     "name": "stdin",
     "output_type": "stream",
     "text": [
      "enter number 11\n"
     ]
    },
    {
     "name": "stdout",
     "output_type": "stream",
     "text": [
      "too high number, i am going to pop up\n"
     ]
    }
   ],
   "source": [
    "num = int(input('enter number'))\n",
    "try:\n",
    "    raisefunc(num)\n",
    "except validator as e:\n",
    "    print(e)"
   ]
  },
  {
   "cell_type": "code",
   "execution_count": null,
   "id": "f3e08620-54e7-47da-ae82-612730fec90e",
   "metadata": {},
   "outputs": [],
   "source": []
  },
  {
   "cell_type": "markdown",
   "id": "53af9f81-4ac8-4f57-987b-93fc925f10fb",
   "metadata": {},
   "source": [
    "## Q.5"
   ]
  },
  {
   "cell_type": "markdown",
   "id": "9e954f0a-51ca-4388-aac6-5d0225f50da2",
   "metadata": {},
   "source": [
    "Custom Exceptions in python are user-defined exceptions created to handle errors in a specific way. They allow developers to create specific exceptions for specific errors that can be easily identified and handled. Custom Exceptions are needed to provide a more specific and meaningful error message for a given situation.\n",
    "\n",
    "For example, if a program is expecting a certain input from a user, you can create a custom exception to be raised when the input does not meet the expected criteria. This allows the program to provide more specific and meaningful feedback to the user so they can correct the input before continuing."
   ]
  },
  {
   "cell_type": "code",
   "execution_count": 34,
   "id": "e949cb29-5c16-492f-a44b-1bb3e9d19d0d",
   "metadata": {},
   "outputs": [],
   "source": [
    "class validator(Exception):\n",
    "    def __init__(self, msg):\n",
    "        self.msg = msg\n",
    "\n",
    "def raisefunc(num):\n",
    "    if num > 10:\n",
    "        raise validator('too high number, i am going to pop up')\n",
    "    if num < 0:\n",
    "        raise validator('negative number, i am going to pop up')"
   ]
  },
  {
   "cell_type": "code",
   "execution_count": 41,
   "id": "04e9c2d2-4f15-4ecf-b552-5874b13727ab",
   "metadata": {},
   "outputs": [
    {
     "name": "stdin",
     "output_type": "stream",
     "text": [
      "enter number form 1-10 20\n"
     ]
    },
    {
     "name": "stdout",
     "output_type": "stream",
     "text": [
      "too high number, i am going to pop up\n"
     ]
    }
   ],
   "source": [
    "num = int(input('enter number form 1-10'))\n",
    "try:\n",
    "    raisefunc(num)\n",
    "except validator as e:\n",
    "    print(e)"
   ]
  },
  {
   "cell_type": "code",
   "execution_count": null,
   "id": "f1403947-e7c4-4da9-b952-fb781ba1781c",
   "metadata": {},
   "outputs": [],
   "source": []
  },
  {
   "cell_type": "markdown",
   "id": "17037504-04e7-412c-88a1-be01af8103b8",
   "metadata": {},
   "source": [
    "## Q.6"
   ]
  },
  {
   "cell_type": "markdown",
   "id": "7d5a2cc7-8629-4269-97c4-31b061ffbf77",
   "metadata": {},
   "source": [
    "Custom Exception class"
   ]
  },
  {
   "cell_type": "code",
   "execution_count": 49,
   "id": "3e4d2018-5fcd-4d51-8306-d5b098cd0869",
   "metadata": {},
   "outputs": [],
   "source": [
    "class custom_cls(Exception):\n",
    "    def __init__(self, message):\n",
    "        self.msg = message"
   ]
  },
  {
   "cell_type": "code",
   "execution_count": 50,
   "id": "63446081-c3ac-4427-a96e-676819bf2029",
   "metadata": {},
   "outputs": [],
   "source": [
    "def age_validate(x):\n",
    "    if x > 107:\n",
    "        raise custom_cls('Age number is very high')\n",
    "    if x < 0:\n",
    "        raise custom_cls('Age can not be in negative')"
   ]
  },
  {
   "cell_type": "code",
   "execution_count": 51,
   "id": "2da6ffcf-4898-44ab-b922-cd075d799c0f",
   "metadata": {},
   "outputs": [
    {
     "name": "stdin",
     "output_type": "stream",
     "text": [
      "Enter your Age 200\n"
     ]
    },
    {
     "name": "stdout",
     "output_type": "stream",
     "text": [
      "Age number is very high\n"
     ]
    }
   ],
   "source": [
    "age=int(input('Enter your Age'))\n",
    "try:\n",
    "    age_validate(age)\n",
    "except custom_cls as e:\n",
    "    print(e)"
   ]
  },
  {
   "cell_type": "code",
   "execution_count": null,
   "id": "f867ed1f-88d2-4dbd-bfe9-e32b7d90eb23",
   "metadata": {},
   "outputs": [],
   "source": []
  }
 ],
 "metadata": {
  "kernelspec": {
   "display_name": "Python 3 (ipykernel)",
   "language": "python",
   "name": "python3"
  },
  "language_info": {
   "codemirror_mode": {
    "name": "ipython",
    "version": 3
   },
   "file_extension": ".py",
   "mimetype": "text/x-python",
   "name": "python",
   "nbconvert_exporter": "python",
   "pygments_lexer": "ipython3",
   "version": "3.10.8"
  }
 },
 "nbformat": 4,
 "nbformat_minor": 5
}
