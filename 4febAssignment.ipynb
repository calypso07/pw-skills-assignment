{
 "cells": [
  {
   "cell_type": "code",
   "execution_count": null,
   "id": "6be76154-84b5-4b8d-b69e-a629fba3bd25",
   "metadata": {},
   "outputs": [],
   "source": []
  },
  {
   "cell_type": "markdown",
   "id": "7d60efa3-eba9-4429-88ef-5cea77e0a9f1",
   "metadata": {},
   "source": [
    "Q.1 Sort lambda function"
   ]
  },
  {
   "cell_type": "code",
   "execution_count": 2,
   "id": "0747ea6f-c1e8-4f55-9fbe-a2fcc5a74a73",
   "metadata": {},
   "outputs": [],
   "source": [
    "lst = [('Sachin Tendulkar', 34357), ('Ricky Ponting', 27483), ('Jack Kallis', 25534), ('Virat Kohli', 24936)]"
   ]
  },
  {
   "cell_type": "code",
   "execution_count": 7,
   "id": "c9d82fe2-bc9c-48a4-89ea-59da603c4ef3",
   "metadata": {},
   "outputs": [
    {
     "name": "stdout",
     "output_type": "stream",
     "text": [
      "[('Virat Kohli', 24936), ('Jack Kallis', 25534), ('Ricky Ponting', 27483), ('Sachin Tendulkar', 34357)]\n"
     ]
    }
   ],
   "source": [
    "lst.sort(key=lambda x: x[1])\n",
    "print(lst)"
   ]
  },
  {
   "cell_type": "code",
   "execution_count": null,
   "id": "fb6f3524-4e34-4c4c-9f8a-98565137e445",
   "metadata": {},
   "outputs": [],
   "source": []
  },
  {
   "cell_type": "markdown",
   "id": "a44a9d70-4171-499c-b6fd-37aa902a3510",
   "metadata": {},
   "source": [
    "Q.2  SQUARE LAMBDA FUNCTION"
   ]
  },
  {
   "cell_type": "code",
   "execution_count": 9,
   "id": "b7a01e97-3a8c-4a82-9c44-b89bfcd209f6",
   "metadata": {},
   "outputs": [],
   "source": [
    "nums=[1, 2, 3, 4, 5, 6, 7, 8, 9, 10]"
   ]
  },
  {
   "cell_type": "code",
   "execution_count": 23,
   "id": "55d27521-7ca0-4406-980b-f3bc2f2cb92a",
   "metadata": {},
   "outputs": [
    {
     "name": "stdout",
     "output_type": "stream",
     "text": [
      "[1, 4, 9, 16, 25, 36, 49, 64, 81, 100]\n"
     ]
    }
   ],
   "source": [
    "x = list(map(lambda x: x**2, nums))\n",
    "print(x)"
   ]
  },
  {
   "cell_type": "code",
   "execution_count": null,
   "id": "eb26ac2b-64d4-4a38-9ff6-7eff3ac9edd0",
   "metadata": {},
   "outputs": [],
   "source": []
  },
  {
   "cell_type": "markdown",
   "id": "a1a001e7-3cb3-494a-9af6-45aebac37c08",
   "metadata": {
    "tags": []
   },
   "source": [
    "Q.3 Tuple string"
   ]
  },
  {
   "cell_type": "code",
   "execution_count": 27,
   "id": "ffd4d85e-3038-4ef7-b3a3-12ca25d2c2a4",
   "metadata": {},
   "outputs": [],
   "source": [
    "n = [1, 2, 3, 4, 5, 6, 7, 8, 9, 10]"
   ]
  },
  {
   "cell_type": "code",
   "execution_count": 31,
   "id": "00fc7131-d60f-43b6-8fcb-c772a0af052a",
   "metadata": {},
   "outputs": [
    {
     "name": "stdout",
     "output_type": "stream",
     "text": [
      "('1', '2', '3', '4', '5', '6', '7', '8', '9', '10')\n"
     ]
    }
   ],
   "source": [
    "nt=tuple(map(lambda x: str(x) ,n))\n",
    "print(nt)"
   ]
  },
  {
   "cell_type": "code",
   "execution_count": 41,
   "id": "924ad529-321a-4cb0-a94b-efb233d261c9",
   "metadata": {},
   "outputs": [],
   "source": []
  },
  {
   "cell_type": "markdown",
   "id": "76b90477-e32a-4f21-9f6c-1cfd09071a6e",
   "metadata": {},
   "source": [
    "Q.4 Product of a list of numbers using reduce()"
   ]
  },
  {
   "cell_type": "code",
   "execution_count": 32,
   "id": "c854fc95-0ebb-4ecc-99a2-d7b3b968b633",
   "metadata": {},
   "outputs": [],
   "source": [
    "list1=[1, 2, 3, 4, 5, 6, 7, 8, 9, 10, 11,12, 13, 14, 15, 16, 17, 18, 19, 20, 21, 22, 23, 24, 25]"
   ]
  },
  {
   "cell_type": "code",
   "execution_count": 35,
   "id": "7124ff68-67d9-4b04-96e6-f4c2e2115497",
   "metadata": {},
   "outputs": [],
   "source": [
    "from functools import reduce"
   ]
  },
  {
   "cell_type": "code",
   "execution_count": 43,
   "id": "2232bca1-c039-4385-b09d-210c84f5b550",
   "metadata": {},
   "outputs": [
    {
     "name": "stdout",
     "output_type": "stream",
     "text": [
      "15511210043330985984000000\n"
     ]
    }
   ],
   "source": [
    "x = reduce(lambda x, y: x*y, list1)\n",
    "print(x)"
   ]
  },
  {
   "cell_type": "code",
   "execution_count": null,
   "id": "3b8f8b1f-1092-43c6-bd1b-8b05b097be5b",
   "metadata": {},
   "outputs": [],
   "source": []
  },
  {
   "cell_type": "markdown",
   "id": "64a668c0-7d3e-4324-8832-974386be87fe",
   "metadata": {},
   "source": [
    "Q.5 Filter the numbers of the list"
   ]
  },
  {
   "cell_type": "code",
   "execution_count": 45,
   "id": "8c1c6473-2bdf-49db-8548-c4dcb1b734f3",
   "metadata": {},
   "outputs": [],
   "source": [
    "list3=[2, 3, 6, 9, 27, 60, 90, 120, 55, 46]"
   ]
  },
  {
   "cell_type": "code",
   "execution_count": 48,
   "id": "bd8f8bce-f8fd-41b5-836a-2e8cf127e312",
   "metadata": {},
   "outputs": [
    {
     "name": "stdout",
     "output_type": "stream",
     "text": [
      "[2, 3, 6, 9, 27, 60, 90, 120, 46]\n"
     ]
    }
   ],
   "source": [
    "filterlist=list(filter(lambda x: x%2==0 or x%3==0, list3))\n",
    "print(filterlist)"
   ]
  },
  {
   "cell_type": "code",
   "execution_count": null,
   "id": "4440d6c5-a6a3-472c-9c33-3ea0b92cba8a",
   "metadata": {},
   "outputs": [],
   "source": []
  },
  {
   "cell_type": "markdown",
   "id": "0a5ee6b9-ff4f-481a-8ba0-3129cc86c595",
   "metadata": {},
   "source": [
    "Q.6 Palindromes of the strings"
   ]
  },
  {
   "cell_type": "code",
   "execution_count": 57,
   "id": "e222ea06-f6b8-41eb-b1de-d8d426995c7e",
   "metadata": {},
   "outputs": [],
   "source": [
    "string = ['python', 'php', 'aba', 'radar', 'level']"
   ]
  },
  {
   "cell_type": "code",
   "execution_count": 66,
   "id": "8b24a01c-6b44-4c6a-a9ce-4bd19bcac3b6",
   "metadata": {},
   "outputs": [
    {
     "name": "stdout",
     "output_type": "stream",
     "text": [
      "['php', 'aba', 'radar', 'level']\n"
     ]
    }
   ],
   "source": [
    "result= list(filter(lambda x: x == ''.join(reversed(x)), string))\n",
    "print(result)"
   ]
  },
  {
   "cell_type": "code",
   "execution_count": null,
   "id": "8c1735c8-f419-4384-94be-29da9b490206",
   "metadata": {},
   "outputs": [],
   "source": []
  }
 ],
 "metadata": {
  "kernelspec": {
   "display_name": "Python 3 (ipykernel)",
   "language": "python",
   "name": "python3"
  },
  "language_info": {
   "codemirror_mode": {
    "name": "ipython",
    "version": 3
   },
   "file_extension": ".py",
   "mimetype": "text/x-python",
   "name": "python",
   "nbconvert_exporter": "python",
   "pygments_lexer": "ipython3",
   "version": "3.10.8"
  }
 },
 "nbformat": 4,
 "nbformat_minor": 5
}
